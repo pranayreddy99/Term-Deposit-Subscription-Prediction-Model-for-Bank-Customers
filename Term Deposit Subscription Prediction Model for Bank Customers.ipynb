{
 "cells": [
  {
   "cell_type": "markdown",
   "id": "0990f0cb",
   "metadata": {},
   "source": [
    "## Problem Statement:\n",
    "### To predict if the client will subscribe a term deposit"
   ]
  },
  {
   "cell_type": "markdown",
   "id": "1c4fc099",
   "metadata": {},
   "source": [
    "Abstract: The data is related with direct marketing campaigns (phone calls) of a Portuguese banking institution. The classification goal is to predict if the client will subscribe a term deposit (variable y).\t"
   ]
  },
  {
   "cell_type": "markdown",
   "id": "3459f02d",
   "metadata": {},
   "source": [
    "Data Set Information:\n",
    "The data is related with direct marketing campaigns of a Portuguese banking institution. The marketing campaigns were based on phone calls. Often, more than one contact to the same client was required, in order to access if the product (bank term deposit) would be ('yes') or not ('no') subscribed."
   ]
  },
  {
   "cell_type": "markdown",
   "id": "b15834fe",
   "metadata": {},
   "source": [
    "Data Set Characteristics:  \tMultivariate\t\n",
    "Number of Instances:\t45211\t\n",
    "Area:\tBusiness\n",
    "\n",
    "Attribute Characteristics:\tReal\t\n",
    "Number of Attributes:\t17\t\n",
    "Date Donated\t2012-02-14\n",
    "Associated Tasks:\tClassification\t\n",
    "Missing Values?\tN/A\t\n",
    "\n"
   ]
  },
  {
   "cell_type": "raw",
   "id": "5b8022d2",
   "metadata": {},
   "source": [
    "Attribute Information:\n",
    "Input variables:\n",
    "# bank client data:\n",
    "1 - age (numeric)\n",
    "2 - job : type of job (categorical: 'admin.','blue-collar','entrepreneur','housemaid','management','retired','self-employed','services','student','technician','unemployed','unknown')\n",
    "3 - marital : marital status (categorical: 'divorced','married','single','unknown'; note: 'divorced' means divorced or widowed)\n",
    "4 - education (categorical: 'basic.4y','basic.6y','basic.9y','high.school','illiterate','professional.course','university.degree','unknown')\n",
    "5 - default: has credit in default? (categorical: 'no','yes','unknown')\n",
    "6 - housing: has housing loan? (categorical: 'no','yes','unknown')\n",
    "7 - loan: has personal loan? (categorical: 'no','yes','unknown')\n",
    "# related with the last contact of the current campaign:\n",
    "8 - contact: contact communication type (categorical: 'cellular','telephone')\n",
    "9 - month: last contact month of year (categorical: 'jan', 'feb', 'mar', ..., 'nov', 'dec')\n",
    "10 - day_of_week: last contact day of the week (categorical: 'mon','tue','wed','thu','fri')\n",
    "11 - duration: last contact duration, in seconds (numeric). Important note: this attribute highly affects the output target (e.g., if duration=0 then y='no'). Yet, the duration is not known before a call is performed. Also, after the end of the call y is obviously known. Thus, this input should only be included for benchmark purposes and should be discarded if the intention is to have a realistic predictive model.\n",
    "# other attributes:\n",
    "12 - campaign: number of contacts performed during this campaign and for this client (numeric, includes last contact)\n",
    "13 - pdays: number of days that passed by after the client was last contacted from a previous campaign (numeric; 999 means client was not previously contacted)\n",
    "14 - previous: number of contacts performed before this campaign and for this client (numeric)\n",
    "15 - poutcome: outcome of the previous marketing campaign (categorical: 'failure','nonexistent','success')\n",
    "# social and economic context attributes\n",
    "16 - emp.var.rate: employment variation rate - quarterly indicator (numeric)\n",
    "17 - cons.price.idx: consumer price index - monthly indicator (numeric)\n",
    "18 - cons.conf.idx: consumer confidence index - monthly indicator (numeric)\n",
    "19 - euribor3m: euribor 3 month rate - daily indicator (numeric)\n",
    "20 - nr.employed: number of employees - quarterly indicator (numeric)\n",
    "\n",
    "Output variable (desired target):\n",
    "21 - y - has the client subscribed a term deposit? (binary: 'yes','no')\n"
   ]
  },
  {
   "cell_type": "markdown",
   "id": "a00cad25",
   "metadata": {},
   "source": [
    "# Approach:\n",
    "\n",
    "The classification goal is to predict if the client will subscribe (yes/no) a term deposit (variable y).A decision tree can be built with target variable 'y' & The decision tree would use the values of the other attributes to make this prediction. "
   ]
  },
  {
   "cell_type": "markdown",
   "id": "347210c7",
   "metadata": {},
   "source": [
    "###### Import necessary Libraries"
   ]
  },
  {
   "cell_type": "code",
   "execution_count": 1,
   "id": "c47ed985",
   "metadata": {},
   "outputs": [],
   "source": [
    "# Importing Data Analysis Librarys\n",
    "import numpy as np\n",
    "import pandas as pd\n",
    "import matplotlib.pyplot as plt\n",
    "import seaborn as sns\n",
    "%matplotlib inline\n",
    "import warnings\n",
    "warnings.filterwarnings('ignore')"
   ]
  },
  {
   "cell_type": "code",
   "execution_count": 2,
   "id": "200b7c90",
   "metadata": {},
   "outputs": [],
   "source": [
    "#reading the data\n",
    "bank_data=pd.read_csv('Bank Client Deposit Data set Classification.csv')"
   ]
  },
  {
   "cell_type": "code",
   "execution_count": 3,
   "id": "bf38da8e",
   "metadata": {
    "scrolled": true
   },
   "outputs": [
    {
     "data": {
      "text/html": [
       "<div>\n",
       "<style scoped>\n",
       "    .dataframe tbody tr th:only-of-type {\n",
       "        vertical-align: middle;\n",
       "    }\n",
       "\n",
       "    .dataframe tbody tr th {\n",
       "        vertical-align: top;\n",
       "    }\n",
       "\n",
       "    .dataframe thead th {\n",
       "        text-align: right;\n",
       "    }\n",
       "</style>\n",
       "<table border=\"1\" class=\"dataframe\">\n",
       "  <thead>\n",
       "    <tr style=\"text-align: right;\">\n",
       "      <th></th>\n",
       "      <th>age</th>\n",
       "      <th>job</th>\n",
       "      <th>marital</th>\n",
       "      <th>education</th>\n",
       "      <th>default</th>\n",
       "      <th>balance</th>\n",
       "      <th>housing</th>\n",
       "      <th>loan</th>\n",
       "      <th>contact</th>\n",
       "      <th>day</th>\n",
       "      <th>month</th>\n",
       "      <th>duration</th>\n",
       "      <th>campaign</th>\n",
       "      <th>pdays</th>\n",
       "      <th>previous</th>\n",
       "      <th>poutcome</th>\n",
       "      <th>y</th>\n",
       "    </tr>\n",
       "  </thead>\n",
       "  <tbody>\n",
       "    <tr>\n",
       "      <th>0</th>\n",
       "      <td>58</td>\n",
       "      <td>management</td>\n",
       "      <td>married</td>\n",
       "      <td>tertiary</td>\n",
       "      <td>no</td>\n",
       "      <td>2143</td>\n",
       "      <td>yes</td>\n",
       "      <td>no</td>\n",
       "      <td>unknown</td>\n",
       "      <td>5</td>\n",
       "      <td>may</td>\n",
       "      <td>261</td>\n",
       "      <td>1</td>\n",
       "      <td>-1</td>\n",
       "      <td>0</td>\n",
       "      <td>unknown</td>\n",
       "      <td>no</td>\n",
       "    </tr>\n",
       "    <tr>\n",
       "      <th>1</th>\n",
       "      <td>44</td>\n",
       "      <td>technician</td>\n",
       "      <td>single</td>\n",
       "      <td>secondary</td>\n",
       "      <td>no</td>\n",
       "      <td>29</td>\n",
       "      <td>yes</td>\n",
       "      <td>no</td>\n",
       "      <td>unknown</td>\n",
       "      <td>5</td>\n",
       "      <td>may</td>\n",
       "      <td>151</td>\n",
       "      <td>1</td>\n",
       "      <td>-1</td>\n",
       "      <td>0</td>\n",
       "      <td>unknown</td>\n",
       "      <td>no</td>\n",
       "    </tr>\n",
       "    <tr>\n",
       "      <th>2</th>\n",
       "      <td>33</td>\n",
       "      <td>entrepreneur</td>\n",
       "      <td>married</td>\n",
       "      <td>secondary</td>\n",
       "      <td>no</td>\n",
       "      <td>2</td>\n",
       "      <td>yes</td>\n",
       "      <td>yes</td>\n",
       "      <td>unknown</td>\n",
       "      <td>5</td>\n",
       "      <td>may</td>\n",
       "      <td>76</td>\n",
       "      <td>1</td>\n",
       "      <td>-1</td>\n",
       "      <td>0</td>\n",
       "      <td>unknown</td>\n",
       "      <td>no</td>\n",
       "    </tr>\n",
       "    <tr>\n",
       "      <th>3</th>\n",
       "      <td>47</td>\n",
       "      <td>blue-collar</td>\n",
       "      <td>married</td>\n",
       "      <td>unknown</td>\n",
       "      <td>no</td>\n",
       "      <td>1506</td>\n",
       "      <td>yes</td>\n",
       "      <td>no</td>\n",
       "      <td>unknown</td>\n",
       "      <td>5</td>\n",
       "      <td>may</td>\n",
       "      <td>92</td>\n",
       "      <td>1</td>\n",
       "      <td>-1</td>\n",
       "      <td>0</td>\n",
       "      <td>unknown</td>\n",
       "      <td>no</td>\n",
       "    </tr>\n",
       "    <tr>\n",
       "      <th>4</th>\n",
       "      <td>33</td>\n",
       "      <td>unknown</td>\n",
       "      <td>single</td>\n",
       "      <td>unknown</td>\n",
       "      <td>no</td>\n",
       "      <td>1</td>\n",
       "      <td>no</td>\n",
       "      <td>no</td>\n",
       "      <td>unknown</td>\n",
       "      <td>5</td>\n",
       "      <td>may</td>\n",
       "      <td>198</td>\n",
       "      <td>1</td>\n",
       "      <td>-1</td>\n",
       "      <td>0</td>\n",
       "      <td>unknown</td>\n",
       "      <td>no</td>\n",
       "    </tr>\n",
       "  </tbody>\n",
       "</table>\n",
       "</div>"
      ],
      "text/plain": [
       "   age           job  marital  education default  balance housing loan  \\\n",
       "0   58    management  married   tertiary      no     2143     yes   no   \n",
       "1   44    technician   single  secondary      no       29     yes   no   \n",
       "2   33  entrepreneur  married  secondary      no        2     yes  yes   \n",
       "3   47   blue-collar  married    unknown      no     1506     yes   no   \n",
       "4   33       unknown   single    unknown      no        1      no   no   \n",
       "\n",
       "   contact  day month  duration  campaign  pdays  previous poutcome   y  \n",
       "0  unknown    5   may       261         1     -1         0  unknown  no  \n",
       "1  unknown    5   may       151         1     -1         0  unknown  no  \n",
       "2  unknown    5   may        76         1     -1         0  unknown  no  \n",
       "3  unknown    5   may        92         1     -1         0  unknown  no  \n",
       "4  unknown    5   may       198         1     -1         0  unknown  no  "
      ]
     },
     "execution_count": 3,
     "metadata": {},
     "output_type": "execute_result"
    }
   ],
   "source": [
    "bank_data.head()#shows top 5 observations"
   ]
  },
  {
   "cell_type": "markdown",
   "id": "d3f7dbf5",
   "metadata": {},
   "source": [
    "###### Exploratory Data Analysis"
   ]
  },
  {
   "cell_type": "code",
   "execution_count": 4,
   "id": "e183cf6a",
   "metadata": {},
   "outputs": [
    {
     "name": "stdout",
     "output_type": "stream",
     "text": [
      "<class 'pandas.core.frame.DataFrame'>\n",
      "RangeIndex: 45211 entries, 0 to 45210\n",
      "Data columns (total 17 columns):\n",
      " #   Column     Non-Null Count  Dtype \n",
      "---  ------     --------------  ----- \n",
      " 0   age        45211 non-null  int64 \n",
      " 1   job        45211 non-null  object\n",
      " 2   marital    45211 non-null  object\n",
      " 3   education  45211 non-null  object\n",
      " 4   default    45211 non-null  object\n",
      " 5   balance    45211 non-null  int64 \n",
      " 6   housing    45211 non-null  object\n",
      " 7   loan       45211 non-null  object\n",
      " 8   contact    45211 non-null  object\n",
      " 9   day        45211 non-null  int64 \n",
      " 10  month      45211 non-null  object\n",
      " 11  duration   45211 non-null  int64 \n",
      " 12  campaign   45211 non-null  int64 \n",
      " 13  pdays      45211 non-null  int64 \n",
      " 14  previous   45211 non-null  int64 \n",
      " 15  poutcome   45211 non-null  object\n",
      " 16  y          45211 non-null  object\n",
      "dtypes: int64(7), object(10)\n",
      "memory usage: 5.9+ MB\n"
     ]
    }
   ],
   "source": [
    "# take a look at the type, number of columns, entries, null values etc..\n",
    "bank_data.info()"
   ]
  },
  {
   "cell_type": "code",
   "execution_count": 5,
   "id": "c1144d25",
   "metadata": {
    "scrolled": true
   },
   "outputs": [
    {
     "name": "stdout",
     "output_type": "stream",
     "text": [
      "Age:\n",
      "32    2085\n",
      "31    1996\n",
      "33    1972\n",
      "34    1930\n",
      "35    1894\n",
      "      ... \n",
      "93       2\n",
      "90       2\n",
      "95       2\n",
      "88       2\n",
      "94       1\n",
      "Name: age, Length: 77, dtype: int64\n",
      "----------------------------------------\n",
      "Job:\n",
      "blue-collar      9732\n",
      "management       9458\n",
      "technician       7597\n",
      "admin.           5171\n",
      "services         4154\n",
      "retired          2264\n",
      "self-employed    1579\n",
      "entrepreneur     1487\n",
      "unemployed       1303\n",
      "housemaid        1240\n",
      "student           938\n",
      "unknown           288\n",
      "Name: job, dtype: int64\n",
      "----------------------------------------\n",
      "Marital:\n",
      "married     27214\n",
      "single      12790\n",
      "divorced     5207\n",
      "Name: marital, dtype: int64\n",
      "----------------------------------------\n",
      "Education:\n",
      "secondary    23202\n",
      "tertiary     13301\n",
      "primary       6851\n",
      "unknown       1857\n",
      "Name: education, dtype: int64\n",
      "----------------------------------------\n",
      "Default:\n",
      "no     44396\n",
      "yes      815\n",
      "Name: default, dtype: int64\n",
      "----------------------------------------\n",
      "Housing loan:\n",
      "yes    25130\n",
      "no     20081\n",
      "Name: housing, dtype: int64\n",
      "----------------------------------------\n",
      "Personal loan:\n",
      "no     37967\n",
      "yes     7244\n",
      "Name: loan, dtype: int64\n",
      "----------------------------------------\n",
      "Contact:\n",
      "cellular     29285\n",
      "unknown      13020\n",
      "telephone     2906\n",
      "Name: contact, dtype: int64\n",
      "----------------------------------------\n",
      "Month:\n",
      "may    13766\n",
      "jul     6895\n",
      "aug     6247\n",
      "jun     5341\n",
      "nov     3970\n",
      "apr     2932\n",
      "feb     2649\n",
      "jan     1403\n",
      "oct      738\n",
      "sep      579\n",
      "mar      477\n",
      "dec      214\n",
      "Name: month, dtype: int64\n",
      "----------------------------------------\n",
      "Day:\n",
      "20    2752\n",
      "18    2308\n",
      "21    2026\n",
      "17    1939\n",
      "6     1932\n",
      "5     1910\n",
      "14    1848\n",
      "8     1842\n",
      "28    1830\n",
      "7     1817\n",
      "19    1757\n",
      "29    1745\n",
      "15    1703\n",
      "12    1603\n",
      "13    1585\n",
      "30    1566\n",
      "9     1561\n",
      "11    1479\n",
      "4     1445\n",
      "16    1415\n",
      "2     1293\n",
      "27    1121\n",
      "3     1079\n",
      "26    1035\n",
      "23     939\n",
      "22     905\n",
      "25     840\n",
      "31     643\n",
      "10     524\n",
      "24     447\n",
      "1      322\n",
      "Name: day, dtype: int64\n",
      "----------------------------------------\n",
      "Previous outcome:\n",
      "unknown    36959\n",
      "failure     4901\n",
      "other       1840\n",
      "success     1511\n",
      "Name: poutcome, dtype: int64\n",
      "----------------------------------------\n",
      "Outcome of this campaign:\n",
      "no     39922\n",
      "yes     5289\n",
      "Name: y, dtype: int64\n",
      "----------------------------------------\n"
     ]
    }
   ],
   "source": [
    "#Checking out the categories and their respective counts in each feature\n",
    "print(\"Age:\",bank_data.age.value_counts(),sep = '\\n')\n",
    "print(\"-\"*40)\n",
    "print(\"Job:\",bank_data.job.value_counts(),sep = '\\n')\n",
    "print(\"-\"*40)\n",
    "print(\"Marital:\",bank_data.marital.value_counts(),sep = '\\n')\n",
    "print(\"-\"*40)\n",
    "print(\"Education:\",bank_data.education.value_counts(),sep = '\\n')\n",
    "print(\"-\"*40)\n",
    "print(\"Default:\",bank_data.default.value_counts(),sep = '\\n')\n",
    "print(\"-\"*40)\n",
    "print(\"Housing loan:\",bank_data.housing.value_counts(),sep = '\\n')\n",
    "print(\"-\"*40)\n",
    "print(\"Personal loan:\",bank_data.loan.value_counts(),sep = '\\n')\n",
    "print(\"-\"*40)\n",
    "print(\"Contact:\",bank_data.contact.value_counts(),sep = '\\n')\n",
    "print(\"-\"*40)\n",
    "print(\"Month:\",bank_data.month.value_counts(),sep = '\\n')\n",
    "print(\"-\"*40)\n",
    "print(\"Day:\",bank_data.day.value_counts(),sep = '\\n')\n",
    "print(\"-\"*40)\n",
    "print(\"Previous outcome:\",bank_data.poutcome.value_counts(),sep = '\\n')\n",
    "print(\"-\"*40)\n",
    "print(\"Outcome of this campaign:\",bank_data.y.value_counts(),sep = '\\n')\n",
    "print(\"-\"*40)"
   ]
  },
  {
   "cell_type": "markdown",
   "id": "919f087e",
   "metadata": {},
   "source": [
    "### Dealing with Missing Values\n",
    "Firstly I start to work with missing values for this kind of project. In the dataset there is no missing values but there are some \"Unknown\" values which are actually missing values for us. So I start to pre-processing by removing this values from dataset"
   ]
  },
  {
   "cell_type": "code",
   "execution_count": 6,
   "id": "44af0135",
   "metadata": {},
   "outputs": [],
   "source": [
    "for column in bank_data.columns:\n",
    "    bank_data[column].replace(['unknown','?',\"\",\"na\",\"NA\"], np.nan, inplace=True)"
   ]
  },
  {
   "cell_type": "code",
   "execution_count": 7,
   "id": "ca80a641",
   "metadata": {},
   "outputs": [
    {
     "data": {
      "text/plain": [
       "age              0\n",
       "job            288\n",
       "marital          0\n",
       "education     1857\n",
       "default          0\n",
       "balance          0\n",
       "housing          0\n",
       "loan             0\n",
       "contact      13020\n",
       "day              0\n",
       "month            0\n",
       "duration         0\n",
       "campaign         0\n",
       "pdays            0\n",
       "previous         0\n",
       "poutcome     36959\n",
       "y                0\n",
       "dtype: int64"
      ]
     },
     "execution_count": 7,
     "metadata": {},
     "output_type": "execute_result"
    }
   ],
   "source": [
    "bank_data.isna().sum()"
   ]
  },
  {
   "cell_type": "code",
   "execution_count": 8,
   "id": "95b73a8b",
   "metadata": {},
   "outputs": [],
   "source": [
    "bank_data=bank_data.drop(labels='poutcome',axis=1)"
   ]
  },
  {
   "cell_type": "code",
   "execution_count": 9,
   "id": "cc005396",
   "metadata": {},
   "outputs": [
    {
     "data": {
      "text/html": [
       "<div>\n",
       "<style scoped>\n",
       "    .dataframe tbody tr th:only-of-type {\n",
       "        vertical-align: middle;\n",
       "    }\n",
       "\n",
       "    .dataframe tbody tr th {\n",
       "        vertical-align: top;\n",
       "    }\n",
       "\n",
       "    .dataframe thead th {\n",
       "        text-align: right;\n",
       "    }\n",
       "</style>\n",
       "<table border=\"1\" class=\"dataframe\">\n",
       "  <thead>\n",
       "    <tr style=\"text-align: right;\">\n",
       "      <th></th>\n",
       "      <th>age</th>\n",
       "      <th>job</th>\n",
       "      <th>marital</th>\n",
       "      <th>education</th>\n",
       "      <th>default</th>\n",
       "      <th>balance</th>\n",
       "      <th>housing</th>\n",
       "      <th>loan</th>\n",
       "      <th>contact</th>\n",
       "      <th>day</th>\n",
       "      <th>month</th>\n",
       "      <th>duration</th>\n",
       "      <th>campaign</th>\n",
       "      <th>pdays</th>\n",
       "      <th>previous</th>\n",
       "      <th>y</th>\n",
       "    </tr>\n",
       "  </thead>\n",
       "  <tbody>\n",
       "    <tr>\n",
       "      <th>0</th>\n",
       "      <td>58</td>\n",
       "      <td>management</td>\n",
       "      <td>married</td>\n",
       "      <td>tertiary</td>\n",
       "      <td>no</td>\n",
       "      <td>2143</td>\n",
       "      <td>yes</td>\n",
       "      <td>no</td>\n",
       "      <td>NaN</td>\n",
       "      <td>5</td>\n",
       "      <td>may</td>\n",
       "      <td>261</td>\n",
       "      <td>1</td>\n",
       "      <td>-1</td>\n",
       "      <td>0</td>\n",
       "      <td>no</td>\n",
       "    </tr>\n",
       "    <tr>\n",
       "      <th>1</th>\n",
       "      <td>44</td>\n",
       "      <td>technician</td>\n",
       "      <td>single</td>\n",
       "      <td>secondary</td>\n",
       "      <td>no</td>\n",
       "      <td>29</td>\n",
       "      <td>yes</td>\n",
       "      <td>no</td>\n",
       "      <td>NaN</td>\n",
       "      <td>5</td>\n",
       "      <td>may</td>\n",
       "      <td>151</td>\n",
       "      <td>1</td>\n",
       "      <td>-1</td>\n",
       "      <td>0</td>\n",
       "      <td>no</td>\n",
       "    </tr>\n",
       "    <tr>\n",
       "      <th>2</th>\n",
       "      <td>33</td>\n",
       "      <td>entrepreneur</td>\n",
       "      <td>married</td>\n",
       "      <td>secondary</td>\n",
       "      <td>no</td>\n",
       "      <td>2</td>\n",
       "      <td>yes</td>\n",
       "      <td>yes</td>\n",
       "      <td>NaN</td>\n",
       "      <td>5</td>\n",
       "      <td>may</td>\n",
       "      <td>76</td>\n",
       "      <td>1</td>\n",
       "      <td>-1</td>\n",
       "      <td>0</td>\n",
       "      <td>no</td>\n",
       "    </tr>\n",
       "    <tr>\n",
       "      <th>3</th>\n",
       "      <td>47</td>\n",
       "      <td>blue-collar</td>\n",
       "      <td>married</td>\n",
       "      <td>NaN</td>\n",
       "      <td>no</td>\n",
       "      <td>1506</td>\n",
       "      <td>yes</td>\n",
       "      <td>no</td>\n",
       "      <td>NaN</td>\n",
       "      <td>5</td>\n",
       "      <td>may</td>\n",
       "      <td>92</td>\n",
       "      <td>1</td>\n",
       "      <td>-1</td>\n",
       "      <td>0</td>\n",
       "      <td>no</td>\n",
       "    </tr>\n",
       "    <tr>\n",
       "      <th>4</th>\n",
       "      <td>33</td>\n",
       "      <td>NaN</td>\n",
       "      <td>single</td>\n",
       "      <td>NaN</td>\n",
       "      <td>no</td>\n",
       "      <td>1</td>\n",
       "      <td>no</td>\n",
       "      <td>no</td>\n",
       "      <td>NaN</td>\n",
       "      <td>5</td>\n",
       "      <td>may</td>\n",
       "      <td>198</td>\n",
       "      <td>1</td>\n",
       "      <td>-1</td>\n",
       "      <td>0</td>\n",
       "      <td>no</td>\n",
       "    </tr>\n",
       "    <tr>\n",
       "      <th>...</th>\n",
       "      <td>...</td>\n",
       "      <td>...</td>\n",
       "      <td>...</td>\n",
       "      <td>...</td>\n",
       "      <td>...</td>\n",
       "      <td>...</td>\n",
       "      <td>...</td>\n",
       "      <td>...</td>\n",
       "      <td>...</td>\n",
       "      <td>...</td>\n",
       "      <td>...</td>\n",
       "      <td>...</td>\n",
       "      <td>...</td>\n",
       "      <td>...</td>\n",
       "      <td>...</td>\n",
       "      <td>...</td>\n",
       "    </tr>\n",
       "    <tr>\n",
       "      <th>45206</th>\n",
       "      <td>51</td>\n",
       "      <td>technician</td>\n",
       "      <td>married</td>\n",
       "      <td>tertiary</td>\n",
       "      <td>no</td>\n",
       "      <td>825</td>\n",
       "      <td>no</td>\n",
       "      <td>no</td>\n",
       "      <td>cellular</td>\n",
       "      <td>17</td>\n",
       "      <td>nov</td>\n",
       "      <td>977</td>\n",
       "      <td>3</td>\n",
       "      <td>-1</td>\n",
       "      <td>0</td>\n",
       "      <td>yes</td>\n",
       "    </tr>\n",
       "    <tr>\n",
       "      <th>45207</th>\n",
       "      <td>71</td>\n",
       "      <td>retired</td>\n",
       "      <td>divorced</td>\n",
       "      <td>primary</td>\n",
       "      <td>no</td>\n",
       "      <td>1729</td>\n",
       "      <td>no</td>\n",
       "      <td>no</td>\n",
       "      <td>cellular</td>\n",
       "      <td>17</td>\n",
       "      <td>nov</td>\n",
       "      <td>456</td>\n",
       "      <td>2</td>\n",
       "      <td>-1</td>\n",
       "      <td>0</td>\n",
       "      <td>yes</td>\n",
       "    </tr>\n",
       "    <tr>\n",
       "      <th>45208</th>\n",
       "      <td>72</td>\n",
       "      <td>retired</td>\n",
       "      <td>married</td>\n",
       "      <td>secondary</td>\n",
       "      <td>no</td>\n",
       "      <td>5715</td>\n",
       "      <td>no</td>\n",
       "      <td>no</td>\n",
       "      <td>cellular</td>\n",
       "      <td>17</td>\n",
       "      <td>nov</td>\n",
       "      <td>1127</td>\n",
       "      <td>5</td>\n",
       "      <td>184</td>\n",
       "      <td>3</td>\n",
       "      <td>yes</td>\n",
       "    </tr>\n",
       "    <tr>\n",
       "      <th>45209</th>\n",
       "      <td>57</td>\n",
       "      <td>blue-collar</td>\n",
       "      <td>married</td>\n",
       "      <td>secondary</td>\n",
       "      <td>no</td>\n",
       "      <td>668</td>\n",
       "      <td>no</td>\n",
       "      <td>no</td>\n",
       "      <td>telephone</td>\n",
       "      <td>17</td>\n",
       "      <td>nov</td>\n",
       "      <td>508</td>\n",
       "      <td>4</td>\n",
       "      <td>-1</td>\n",
       "      <td>0</td>\n",
       "      <td>no</td>\n",
       "    </tr>\n",
       "    <tr>\n",
       "      <th>45210</th>\n",
       "      <td>37</td>\n",
       "      <td>entrepreneur</td>\n",
       "      <td>married</td>\n",
       "      <td>secondary</td>\n",
       "      <td>no</td>\n",
       "      <td>2971</td>\n",
       "      <td>no</td>\n",
       "      <td>no</td>\n",
       "      <td>cellular</td>\n",
       "      <td>17</td>\n",
       "      <td>nov</td>\n",
       "      <td>361</td>\n",
       "      <td>4552</td>\n",
       "      <td>188</td>\n",
       "      <td>11</td>\n",
       "      <td>no</td>\n",
       "    </tr>\n",
       "  </tbody>\n",
       "</table>\n",
       "<p>45211 rows × 16 columns</p>\n",
       "</div>"
      ],
      "text/plain": [
       "       age           job   marital  education default  balance housing loan  \\\n",
       "0       58    management   married   tertiary      no     2143     yes   no   \n",
       "1       44    technician    single  secondary      no       29     yes   no   \n",
       "2       33  entrepreneur   married  secondary      no        2     yes  yes   \n",
       "3       47   blue-collar   married        NaN      no     1506     yes   no   \n",
       "4       33           NaN    single        NaN      no        1      no   no   \n",
       "...    ...           ...       ...        ...     ...      ...     ...  ...   \n",
       "45206   51    technician   married   tertiary      no      825      no   no   \n",
       "45207   71       retired  divorced    primary      no     1729      no   no   \n",
       "45208   72       retired   married  secondary      no     5715      no   no   \n",
       "45209   57   blue-collar   married  secondary      no      668      no   no   \n",
       "45210   37  entrepreneur   married  secondary      no     2971      no   no   \n",
       "\n",
       "         contact  day month  duration  campaign  pdays  previous    y  \n",
       "0            NaN    5   may       261         1     -1         0   no  \n",
       "1            NaN    5   may       151         1     -1         0   no  \n",
       "2            NaN    5   may        76         1     -1         0   no  \n",
       "3            NaN    5   may        92         1     -1         0   no  \n",
       "4            NaN    5   may       198         1     -1         0   no  \n",
       "...          ...  ...   ...       ...       ...    ...       ...  ...  \n",
       "45206   cellular   17   nov       977         3     -1         0  yes  \n",
       "45207   cellular   17   nov       456         2     -1         0  yes  \n",
       "45208   cellular   17   nov      1127         5    184         3  yes  \n",
       "45209  telephone   17   nov       508         4     -1         0   no  \n",
       "45210   cellular   17   nov       361      4552    188        11   no  \n",
       "\n",
       "[45211 rows x 16 columns]"
      ]
     },
     "execution_count": 9,
     "metadata": {},
     "output_type": "execute_result"
    }
   ],
   "source": [
    "bank_data.reset_index(inplace=True,drop=True)\n",
    "bank_data"
   ]
  },
  {
   "cell_type": "code",
   "execution_count": 10,
   "id": "8275c761",
   "metadata": {},
   "outputs": [
    {
     "data": {
      "text/plain": [
       "(45211, 16)"
      ]
     },
     "execution_count": 10,
     "metadata": {},
     "output_type": "execute_result"
    }
   ],
   "source": [
    "bank_data.shape# get shape of dataframe"
   ]
  },
  {
   "cell_type": "code",
   "execution_count": 11,
   "id": "29c55e14",
   "metadata": {},
   "outputs": [],
   "source": [
    "bank_data.dropna(inplace=True)"
   ]
  },
  {
   "cell_type": "code",
   "execution_count": 12,
   "id": "f16c00cd",
   "metadata": {},
   "outputs": [
    {
     "data": {
      "text/html": [
       "<div>\n",
       "<style scoped>\n",
       "    .dataframe tbody tr th:only-of-type {\n",
       "        vertical-align: middle;\n",
       "    }\n",
       "\n",
       "    .dataframe tbody tr th {\n",
       "        vertical-align: top;\n",
       "    }\n",
       "\n",
       "    .dataframe thead th {\n",
       "        text-align: right;\n",
       "    }\n",
       "</style>\n",
       "<table border=\"1\" class=\"dataframe\">\n",
       "  <thead>\n",
       "    <tr style=\"text-align: right;\">\n",
       "      <th></th>\n",
       "      <th>age</th>\n",
       "      <th>job</th>\n",
       "      <th>marital</th>\n",
       "      <th>education</th>\n",
       "      <th>default</th>\n",
       "      <th>balance</th>\n",
       "      <th>housing</th>\n",
       "      <th>loan</th>\n",
       "      <th>contact</th>\n",
       "      <th>day</th>\n",
       "      <th>month</th>\n",
       "      <th>duration</th>\n",
       "      <th>campaign</th>\n",
       "      <th>pdays</th>\n",
       "      <th>previous</th>\n",
       "      <th>y</th>\n",
       "    </tr>\n",
       "  </thead>\n",
       "  <tbody>\n",
       "    <tr>\n",
       "      <th>0</th>\n",
       "      <td>27</td>\n",
       "      <td>management</td>\n",
       "      <td>single</td>\n",
       "      <td>secondary</td>\n",
       "      <td>no</td>\n",
       "      <td>35</td>\n",
       "      <td>no</td>\n",
       "      <td>no</td>\n",
       "      <td>cellular</td>\n",
       "      <td>4</td>\n",
       "      <td>jul</td>\n",
       "      <td>255</td>\n",
       "      <td>1</td>\n",
       "      <td>-1</td>\n",
       "      <td>0</td>\n",
       "      <td>no</td>\n",
       "    </tr>\n",
       "    <tr>\n",
       "      <th>1</th>\n",
       "      <td>54</td>\n",
       "      <td>blue-collar</td>\n",
       "      <td>married</td>\n",
       "      <td>primary</td>\n",
       "      <td>no</td>\n",
       "      <td>466</td>\n",
       "      <td>no</td>\n",
       "      <td>no</td>\n",
       "      <td>cellular</td>\n",
       "      <td>4</td>\n",
       "      <td>jul</td>\n",
       "      <td>297</td>\n",
       "      <td>1</td>\n",
       "      <td>-1</td>\n",
       "      <td>0</td>\n",
       "      <td>no</td>\n",
       "    </tr>\n",
       "    <tr>\n",
       "      <th>2</th>\n",
       "      <td>43</td>\n",
       "      <td>blue-collar</td>\n",
       "      <td>married</td>\n",
       "      <td>secondary</td>\n",
       "      <td>no</td>\n",
       "      <td>105</td>\n",
       "      <td>no</td>\n",
       "      <td>yes</td>\n",
       "      <td>cellular</td>\n",
       "      <td>4</td>\n",
       "      <td>jul</td>\n",
       "      <td>668</td>\n",
       "      <td>2</td>\n",
       "      <td>-1</td>\n",
       "      <td>0</td>\n",
       "      <td>no</td>\n",
       "    </tr>\n",
       "    <tr>\n",
       "      <th>3</th>\n",
       "      <td>31</td>\n",
       "      <td>technician</td>\n",
       "      <td>single</td>\n",
       "      <td>secondary</td>\n",
       "      <td>no</td>\n",
       "      <td>19</td>\n",
       "      <td>no</td>\n",
       "      <td>no</td>\n",
       "      <td>telephone</td>\n",
       "      <td>4</td>\n",
       "      <td>jul</td>\n",
       "      <td>65</td>\n",
       "      <td>2</td>\n",
       "      <td>-1</td>\n",
       "      <td>0</td>\n",
       "      <td>no</td>\n",
       "    </tr>\n",
       "    <tr>\n",
       "      <th>4</th>\n",
       "      <td>27</td>\n",
       "      <td>technician</td>\n",
       "      <td>single</td>\n",
       "      <td>secondary</td>\n",
       "      <td>no</td>\n",
       "      <td>126</td>\n",
       "      <td>yes</td>\n",
       "      <td>yes</td>\n",
       "      <td>cellular</td>\n",
       "      <td>4</td>\n",
       "      <td>jul</td>\n",
       "      <td>436</td>\n",
       "      <td>4</td>\n",
       "      <td>-1</td>\n",
       "      <td>0</td>\n",
       "      <td>no</td>\n",
       "    </tr>\n",
       "    <tr>\n",
       "      <th>...</th>\n",
       "      <td>...</td>\n",
       "      <td>...</td>\n",
       "      <td>...</td>\n",
       "      <td>...</td>\n",
       "      <td>...</td>\n",
       "      <td>...</td>\n",
       "      <td>...</td>\n",
       "      <td>...</td>\n",
       "      <td>...</td>\n",
       "      <td>...</td>\n",
       "      <td>...</td>\n",
       "      <td>...</td>\n",
       "      <td>...</td>\n",
       "      <td>...</td>\n",
       "      <td>...</td>\n",
       "      <td>...</td>\n",
       "    </tr>\n",
       "    <tr>\n",
       "      <th>30902</th>\n",
       "      <td>51</td>\n",
       "      <td>technician</td>\n",
       "      <td>married</td>\n",
       "      <td>tertiary</td>\n",
       "      <td>no</td>\n",
       "      <td>825</td>\n",
       "      <td>no</td>\n",
       "      <td>no</td>\n",
       "      <td>cellular</td>\n",
       "      <td>17</td>\n",
       "      <td>nov</td>\n",
       "      <td>977</td>\n",
       "      <td>3</td>\n",
       "      <td>-1</td>\n",
       "      <td>0</td>\n",
       "      <td>yes</td>\n",
       "    </tr>\n",
       "    <tr>\n",
       "      <th>30903</th>\n",
       "      <td>71</td>\n",
       "      <td>retired</td>\n",
       "      <td>divorced</td>\n",
       "      <td>primary</td>\n",
       "      <td>no</td>\n",
       "      <td>1729</td>\n",
       "      <td>no</td>\n",
       "      <td>no</td>\n",
       "      <td>cellular</td>\n",
       "      <td>17</td>\n",
       "      <td>nov</td>\n",
       "      <td>456</td>\n",
       "      <td>2</td>\n",
       "      <td>-1</td>\n",
       "      <td>0</td>\n",
       "      <td>yes</td>\n",
       "    </tr>\n",
       "    <tr>\n",
       "      <th>30904</th>\n",
       "      <td>72</td>\n",
       "      <td>retired</td>\n",
       "      <td>married</td>\n",
       "      <td>secondary</td>\n",
       "      <td>no</td>\n",
       "      <td>5715</td>\n",
       "      <td>no</td>\n",
       "      <td>no</td>\n",
       "      <td>cellular</td>\n",
       "      <td>17</td>\n",
       "      <td>nov</td>\n",
       "      <td>1127</td>\n",
       "      <td>5</td>\n",
       "      <td>184</td>\n",
       "      <td>3</td>\n",
       "      <td>yes</td>\n",
       "    </tr>\n",
       "    <tr>\n",
       "      <th>30905</th>\n",
       "      <td>57</td>\n",
       "      <td>blue-collar</td>\n",
       "      <td>married</td>\n",
       "      <td>secondary</td>\n",
       "      <td>no</td>\n",
       "      <td>668</td>\n",
       "      <td>no</td>\n",
       "      <td>no</td>\n",
       "      <td>telephone</td>\n",
       "      <td>17</td>\n",
       "      <td>nov</td>\n",
       "      <td>508</td>\n",
       "      <td>4</td>\n",
       "      <td>-1</td>\n",
       "      <td>0</td>\n",
       "      <td>no</td>\n",
       "    </tr>\n",
       "    <tr>\n",
       "      <th>30906</th>\n",
       "      <td>37</td>\n",
       "      <td>entrepreneur</td>\n",
       "      <td>married</td>\n",
       "      <td>secondary</td>\n",
       "      <td>no</td>\n",
       "      <td>2971</td>\n",
       "      <td>no</td>\n",
       "      <td>no</td>\n",
       "      <td>cellular</td>\n",
       "      <td>17</td>\n",
       "      <td>nov</td>\n",
       "      <td>361</td>\n",
       "      <td>4552</td>\n",
       "      <td>188</td>\n",
       "      <td>11</td>\n",
       "      <td>no</td>\n",
       "    </tr>\n",
       "  </tbody>\n",
       "</table>\n",
       "<p>30907 rows × 16 columns</p>\n",
       "</div>"
      ],
      "text/plain": [
       "       age           job   marital  education default  balance housing loan  \\\n",
       "0       27    management    single  secondary      no       35      no   no   \n",
       "1       54   blue-collar   married    primary      no      466      no   no   \n",
       "2       43   blue-collar   married  secondary      no      105      no  yes   \n",
       "3       31    technician    single  secondary      no       19      no   no   \n",
       "4       27    technician    single  secondary      no      126     yes  yes   \n",
       "...    ...           ...       ...        ...     ...      ...     ...  ...   \n",
       "30902   51    technician   married   tertiary      no      825      no   no   \n",
       "30903   71       retired  divorced    primary      no     1729      no   no   \n",
       "30904   72       retired   married  secondary      no     5715      no   no   \n",
       "30905   57   blue-collar   married  secondary      no      668      no   no   \n",
       "30906   37  entrepreneur   married  secondary      no     2971      no   no   \n",
       "\n",
       "         contact  day month  duration  campaign  pdays  previous    y  \n",
       "0       cellular    4   jul       255         1     -1         0   no  \n",
       "1       cellular    4   jul       297         1     -1         0   no  \n",
       "2       cellular    4   jul       668         2     -1         0   no  \n",
       "3      telephone    4   jul        65         2     -1         0   no  \n",
       "4       cellular    4   jul       436         4     -1         0   no  \n",
       "...          ...  ...   ...       ...       ...    ...       ...  ...  \n",
       "30902   cellular   17   nov       977         3     -1         0  yes  \n",
       "30903   cellular   17   nov       456         2     -1         0  yes  \n",
       "30904   cellular   17   nov      1127         5    184         3  yes  \n",
       "30905  telephone   17   nov       508         4     -1         0   no  \n",
       "30906   cellular   17   nov       361      4552    188        11   no  \n",
       "\n",
       "[30907 rows x 16 columns]"
      ]
     },
     "execution_count": 12,
     "metadata": {},
     "output_type": "execute_result"
    }
   ],
   "source": [
    "bank_data.reset_index(inplace=True,drop=True)\n",
    "bank_data"
   ]
  },
  {
   "cell_type": "code",
   "execution_count": 13,
   "id": "806df2d8",
   "metadata": {},
   "outputs": [
    {
     "data": {
      "text/plain": [
       "(30907, 16)"
      ]
     },
     "execution_count": 13,
     "metadata": {},
     "output_type": "execute_result"
    }
   ],
   "source": [
    "bank_data.shape# get shape of dataframe"
   ]
  },
  {
   "cell_type": "code",
   "execution_count": 14,
   "id": "d46f92bb",
   "metadata": {},
   "outputs": [
    {
     "data": {
      "text/plain": [
       "age          0\n",
       "job          0\n",
       "marital      0\n",
       "education    0\n",
       "default      0\n",
       "balance      0\n",
       "housing      0\n",
       "loan         0\n",
       "contact      0\n",
       "day          0\n",
       "month        0\n",
       "duration     0\n",
       "campaign     0\n",
       "pdays        0\n",
       "previous     0\n",
       "y            0\n",
       "dtype: int64"
      ]
     },
     "execution_count": 14,
     "metadata": {},
     "output_type": "execute_result"
    }
   ],
   "source": [
    "bank_data.isna().sum()#count of null values"
   ]
  },
  {
   "cell_type": "code",
   "execution_count": 15,
   "id": "5bcd6f24",
   "metadata": {},
   "outputs": [
    {
     "data": {
      "text/plain": [
       "0"
      ]
     },
     "execution_count": 15,
     "metadata": {},
     "output_type": "execute_result"
    }
   ],
   "source": [
    "bank_data.duplicated().sum()#display count of duplicated row "
   ]
  },
  {
   "cell_type": "code",
   "execution_count": 16,
   "id": "bf6e4ea7",
   "metadata": {
    "scrolled": true
   },
   "outputs": [
    {
     "data": {
      "text/plain": [
       "age            75\n",
       "job            11\n",
       "marital         3\n",
       "education       3\n",
       "default         2\n",
       "balance      6158\n",
       "housing         2\n",
       "loan            2\n",
       "contact         2\n",
       "day            31\n",
       "month          12\n",
       "duration     1449\n",
       "campaign       50\n",
       "pdays         530\n",
       "previous       40\n",
       "y               2\n",
       "dtype: int64"
      ]
     },
     "execution_count": 16,
     "metadata": {},
     "output_type": "execute_result"
    }
   ],
   "source": [
    "bank_data.nunique()"
   ]
  },
  {
   "cell_type": "code",
   "execution_count": 17,
   "id": "c6ba3f15",
   "metadata": {},
   "outputs": [
    {
     "data": {
      "text/html": [
       "<div>\n",
       "<style scoped>\n",
       "    .dataframe tbody tr th:only-of-type {\n",
       "        vertical-align: middle;\n",
       "    }\n",
       "\n",
       "    .dataframe tbody tr th {\n",
       "        vertical-align: top;\n",
       "    }\n",
       "\n",
       "    .dataframe thead th {\n",
       "        text-align: right;\n",
       "    }\n",
       "</style>\n",
       "<table border=\"1\" class=\"dataframe\">\n",
       "  <thead>\n",
       "    <tr style=\"text-align: right;\">\n",
       "      <th></th>\n",
       "      <th>age</th>\n",
       "      <th>balance</th>\n",
       "      <th>day</th>\n",
       "      <th>duration</th>\n",
       "      <th>campaign</th>\n",
       "      <th>pdays</th>\n",
       "      <th>previous</th>\n",
       "    </tr>\n",
       "  </thead>\n",
       "  <tbody>\n",
       "    <tr>\n",
       "      <th>count</th>\n",
       "      <td>30907.000000</td>\n",
       "      <td>30907.000000</td>\n",
       "      <td>30907.000000</td>\n",
       "      <td>30907.000000</td>\n",
       "      <td>30907.000000</td>\n",
       "      <td>30907.000000</td>\n",
       "      <td>30907.000000</td>\n",
       "    </tr>\n",
       "    <tr>\n",
       "      <th>mean</th>\n",
       "      <td>40.918918</td>\n",
       "      <td>1425.760701</td>\n",
       "      <td>15.967257</td>\n",
       "      <td>260.485003</td>\n",
       "      <td>4.078267</td>\n",
       "      <td>55.944835</td>\n",
       "      <td>0.808490</td>\n",
       "    </tr>\n",
       "    <tr>\n",
       "      <th>std</th>\n",
       "      <td>10.922583</td>\n",
       "      <td>3190.967030</td>\n",
       "      <td>8.226736</td>\n",
       "      <td>257.783963</td>\n",
       "      <td>69.081311</td>\n",
       "      <td>112.726930</td>\n",
       "      <td>2.706169</td>\n",
       "    </tr>\n",
       "    <tr>\n",
       "      <th>min</th>\n",
       "      <td>18.000000</td>\n",
       "      <td>-8019.000000</td>\n",
       "      <td>1.000000</td>\n",
       "      <td>0.000000</td>\n",
       "      <td>1.000000</td>\n",
       "      <td>-1.000000</td>\n",
       "      <td>0.000000</td>\n",
       "    </tr>\n",
       "    <tr>\n",
       "      <th>25%</th>\n",
       "      <td>32.000000</td>\n",
       "      <td>80.000000</td>\n",
       "      <td>9.000000</td>\n",
       "      <td>104.000000</td>\n",
       "      <td>1.000000</td>\n",
       "      <td>-1.000000</td>\n",
       "      <td>0.000000</td>\n",
       "    </tr>\n",
       "    <tr>\n",
       "      <th>50%</th>\n",
       "      <td>39.000000</td>\n",
       "      <td>473.000000</td>\n",
       "      <td>16.000000</td>\n",
       "      <td>181.000000</td>\n",
       "      <td>2.000000</td>\n",
       "      <td>-1.000000</td>\n",
       "      <td>0.000000</td>\n",
       "    </tr>\n",
       "    <tr>\n",
       "      <th>75%</th>\n",
       "      <td>48.000000</td>\n",
       "      <td>1502.500000</td>\n",
       "      <td>21.000000</td>\n",
       "      <td>322.000000</td>\n",
       "      <td>3.000000</td>\n",
       "      <td>10.000000</td>\n",
       "      <td>1.000000</td>\n",
       "    </tr>\n",
       "    <tr>\n",
       "      <th>max</th>\n",
       "      <td>95.000000</td>\n",
       "      <td>102127.000000</td>\n",
       "      <td>31.000000</td>\n",
       "      <td>4918.000000</td>\n",
       "      <td>5553.000000</td>\n",
       "      <td>871.000000</td>\n",
       "      <td>275.000000</td>\n",
       "    </tr>\n",
       "  </tbody>\n",
       "</table>\n",
       "</div>"
      ],
      "text/plain": [
       "                age        balance           day      duration      campaign  \\\n",
       "count  30907.000000   30907.000000  30907.000000  30907.000000  30907.000000   \n",
       "mean      40.918918    1425.760701     15.967257    260.485003      4.078267   \n",
       "std       10.922583    3190.967030      8.226736    257.783963     69.081311   \n",
       "min       18.000000   -8019.000000      1.000000      0.000000      1.000000   \n",
       "25%       32.000000      80.000000      9.000000    104.000000      1.000000   \n",
       "50%       39.000000     473.000000     16.000000    181.000000      2.000000   \n",
       "75%       48.000000    1502.500000     21.000000    322.000000      3.000000   \n",
       "max       95.000000  102127.000000     31.000000   4918.000000   5553.000000   \n",
       "\n",
       "              pdays      previous  \n",
       "count  30907.000000  30907.000000  \n",
       "mean      55.944835      0.808490  \n",
       "std      112.726930      2.706169  \n",
       "min       -1.000000      0.000000  \n",
       "25%       -1.000000      0.000000  \n",
       "50%       -1.000000      0.000000  \n",
       "75%       10.000000      1.000000  \n",
       "max      871.000000    275.000000  "
      ]
     },
     "execution_count": 17,
     "metadata": {},
     "output_type": "execute_result"
    }
   ],
   "source": [
    "## to better understand the numeric data, we want to use the .describe() method. This gives us an understanding of the central tendencies of the data \n",
    "bank_data.describe()"
   ]
  },
  {
   "cell_type": "code",
   "execution_count": 18,
   "id": "62c12817",
   "metadata": {},
   "outputs": [
    {
     "data": {
      "image/png": "[encoded data removed]",
      "text/plain": [
       "<Figure size 1400x900 with 2 Axes>"
      ]
     },
     "metadata": {},
     "output_type": "display_data"
    }
   ],
   "source": [
    "fig, ax = plt.subplots(figsize=(14,9))\n",
    "sns.heatmap(bank_data.corr(), vmin=-1, vmax=1, cmap=sns.diverging_palette(20, 220, as_cmap=True), annot=True)\n",
    "plt.show()"
   ]
  },
  {
   "cell_type": "markdown",
   "id": "87bca38d",
   "metadata": {},
   "source": [
    "Duration highly affects the output target (e.g., if duration=0 then y=‘no’). Yet, the duration is not known before a call is performed. Also, after the end of the call y is obviously known. Thus, this input should only be included for benchmark purposes and should be discarded if the intention is to have a realistic predictive model."
   ]
  },
  {
   "cell_type": "markdown",
   "id": "db2ebb10",
   "metadata": {},
   "source": [
    "### 1. Bank client data Attributes Analysis "
   ]
  },
  {
   "cell_type": "code",
   "execution_count": 19,
   "id": "525f876a",
   "metadata": {},
   "outputs": [
    {
     "data": {
      "text/html": [
       "<div>\n",
       "<style scoped>\n",
       "    .dataframe tbody tr th:only-of-type {\n",
       "        vertical-align: middle;\n",
       "    }\n",
       "\n",
       "    .dataframe tbody tr th {\n",
       "        vertical-align: top;\n",
       "    }\n",
       "\n",
       "    .dataframe thead th {\n",
       "        text-align: right;\n",
       "    }\n",
       "</style>\n",
       "<table border=\"1\" class=\"dataframe\">\n",
       "  <thead>\n",
       "    <tr style=\"text-align: right;\">\n",
       "      <th></th>\n",
       "      <th>age</th>\n",
       "      <th>job</th>\n",
       "      <th>marital</th>\n",
       "      <th>education</th>\n",
       "      <th>default</th>\n",
       "      <th>balance</th>\n",
       "      <th>housing</th>\n",
       "      <th>loan</th>\n",
       "    </tr>\n",
       "  </thead>\n",
       "  <tbody>\n",
       "    <tr>\n",
       "      <th>0</th>\n",
       "      <td>27</td>\n",
       "      <td>management</td>\n",
       "      <td>single</td>\n",
       "      <td>secondary</td>\n",
       "      <td>no</td>\n",
       "      <td>35</td>\n",
       "      <td>no</td>\n",
       "      <td>no</td>\n",
       "    </tr>\n",
       "    <tr>\n",
       "      <th>1</th>\n",
       "      <td>54</td>\n",
       "      <td>blue-collar</td>\n",
       "      <td>married</td>\n",
       "      <td>primary</td>\n",
       "      <td>no</td>\n",
       "      <td>466</td>\n",
       "      <td>no</td>\n",
       "      <td>no</td>\n",
       "    </tr>\n",
       "    <tr>\n",
       "      <th>2</th>\n",
       "      <td>43</td>\n",
       "      <td>blue-collar</td>\n",
       "      <td>married</td>\n",
       "      <td>secondary</td>\n",
       "      <td>no</td>\n",
       "      <td>105</td>\n",
       "      <td>no</td>\n",
       "      <td>yes</td>\n",
       "    </tr>\n",
       "    <tr>\n",
       "      <th>3</th>\n",
       "      <td>31</td>\n",
       "      <td>technician</td>\n",
       "      <td>single</td>\n",
       "      <td>secondary</td>\n",
       "      <td>no</td>\n",
       "      <td>19</td>\n",
       "      <td>no</td>\n",
       "      <td>no</td>\n",
       "    </tr>\n",
       "    <tr>\n",
       "      <th>4</th>\n",
       "      <td>27</td>\n",
       "      <td>technician</td>\n",
       "      <td>single</td>\n",
       "      <td>secondary</td>\n",
       "      <td>no</td>\n",
       "      <td>126</td>\n",
       "      <td>yes</td>\n",
       "      <td>yes</td>\n",
       "    </tr>\n",
       "  </tbody>\n",
       "</table>\n",
       "</div>"
      ],
      "text/plain": [
       "   age          job  marital  education default  balance housing loan\n",
       "0   27   management   single  secondary      no       35      no   no\n",
       "1   54  blue-collar  married    primary      no      466      no   no\n",
       "2   43  blue-collar  married  secondary      no      105      no  yes\n",
       "3   31   technician   single  secondary      no       19      no   no\n",
       "4   27   technician   single  secondary      no      126     yes  yes"
      ]
     },
     "execution_count": 19,
     "metadata": {},
     "output_type": "execute_result"
    }
   ],
   "source": [
    "# Slicing DataFrame to treat separately, make things more easy\n",
    "bank_client = bank_data.iloc[: , 0:8]\n",
    "bank_client.head()"
   ]
  },
  {
   "cell_type": "code",
   "execution_count": 20,
   "id": "aa6c9a68",
   "metadata": {},
   "outputs": [],
   "source": [
    "#droping balance column\n",
    "bank_client=bank_client.drop(labels='balance',axis=1)"
   ]
  },
  {
   "cell_type": "code",
   "execution_count": 21,
   "id": "10ce1f90",
   "metadata": {},
   "outputs": [
    {
     "name": "stdout",
     "output_type": "stream",
     "text": [
      "<class 'pandas.core.frame.DataFrame'>\n",
      "RangeIndex: 30907 entries, 0 to 30906\n",
      "Data columns (total 7 columns):\n",
      " #   Column     Non-Null Count  Dtype \n",
      "---  ------     --------------  ----- \n",
      " 0   age        30907 non-null  int64 \n",
      " 1   job        30907 non-null  object\n",
      " 2   marital    30907 non-null  object\n",
      " 3   education  30907 non-null  object\n",
      " 4   default    30907 non-null  object\n",
      " 5   housing    30907 non-null  object\n",
      " 6   loan       30907 non-null  object\n",
      "dtypes: int64(1), object(6)\n",
      "memory usage: 1.7+ MB\n"
     ]
    }
   ],
   "source": [
    "bank_client.info()"
   ]
  },
  {
   "cell_type": "code",
   "execution_count": 22,
   "id": "3cad8779",
   "metadata": {},
   "outputs": [
    {
     "name": "stdout",
     "output_type": "stream",
     "text": [
      "job: ['management' 'blue-collar' 'technician' 'services' 'admin.' 'unemployed'\n",
      " 'entrepreneur' 'housemaid' 'retired' 'self-employed' 'student'] \n",
      " Total job category 11\n",
      "\n",
      " Marital: ['single' 'married' 'divorced']\n",
      "\n",
      " Education: ['secondary' 'primary' 'tertiary']\n",
      "\n",
      " Default: ['no' 'yes']\n",
      "\n",
      " Housing: ['no' 'yes']\n",
      "\n",
      " Loan: ['no' 'yes']\n"
     ]
    }
   ],
   "source": [
    "# knowing the categorical variables \n",
    "print('job:',bank_client['job'].unique(),'\\n Total job category',bank_client['job'].nunique())\n",
    "print('\\n Marital:', bank_client['marital'].unique())\n",
    "print('\\n Education:', bank_client['education'].unique())\n",
    "print('\\n Default:', bank_client['default'].unique())\n",
    "print('\\n Housing:', bank_client['housing'].unique())\n",
    "print('\\n Loan:', bank_client['loan'].unique())"
   ]
  },
  {
   "cell_type": "markdown",
   "id": "5c6afa42",
   "metadata": {},
   "source": [
    "###### 1.Age "
   ]
  },
  {
   "cell_type": "code",
   "execution_count": 23,
   "id": "81638ed3",
   "metadata": {},
   "outputs": [
    {
     "data": {
      "image/png": "[encoded data removed]",
      "text/plain": [
       "<Figure size 2000x800 with 1 Axes>"
      ]
     },
     "metadata": {},
     "output_type": "display_data"
    }
   ],
   "source": [
    "fig, ax = plt.subplots()\n",
    "fig.set_size_inches(20, 8)\n",
    "sns.countplot(x = 'age', data = bank_client)\n",
    "ax.set_xlabel('Age', fontsize=15)\n",
    "ax.set_ylabel('Count', fontsize=15)\n",
    "ax.set_title('Age Count Distribution', fontsize=15)\n",
    "sns.despine()"
   ]
  },
  {
   "cell_type": "code",
   "execution_count": 24,
   "id": "e6378384",
   "metadata": {},
   "outputs": [
    {
     "data": {
      "image/png": "[encoded data removed]",
      "text/plain": [
       "<Figure size 1300x500 with 2 Axes>"
      ]
     },
     "metadata": {},
     "output_type": "display_data"
    }
   ],
   "source": [
    "fig, (ax1, ax2) = plt.subplots(nrows = 1, ncols = 2, figsize = (13, 5))\n",
    "sns.boxplot(x = 'age', data = bank_client, orient = 'v', ax = ax1)\n",
    "ax1.set_xlabel('People Age', fontsize=15)\n",
    "ax1.set_ylabel('Age', fontsize=15)\n",
    "ax1.set_title('Age Distribution', fontsize=15)\n",
    "ax1.tick_params(labelsize=15)\n",
    "\n",
    "sns.distplot(bank_client['age'], ax = ax2)\n",
    "sns.despine(ax = ax2)\n",
    "ax2.set_xlabel('Age', fontsize=15)\n",
    "ax2.set_ylabel('Occurence', fontsize=15)\n",
    "ax2.set_title('Age x Ocucurence', fontsize=15)\n",
    "ax2.tick_params(labelsize=15)\n"
   ]
  },
  {
   "cell_type": "markdown",
   "id": "1e0ce855",
   "metadata": {},
   "source": [
    "How to interpret boxplot\n",
    "*Median: In the box plot, the median is displayed rather than the mean.\n",
    "* Q1: The first quartile (25%) position.\n",
    "* Q3: The third quartile (75%) position.\n",
    "* Interquartile range (IQR): a measure of statistical dispersion, being equal to the difference between 75th and 25th percentiles. It represents how 50% of the points were dispersed.\n",
    "* Lower and upper 1.5*IQR whiskers: These represent the limits and boundaries for the outliers.\n",
    "* Outliers: Defined as observations that fall below Q1 − 1.5 IQR or above Q3 + 1.5 IQR. Outliers are displayed as dots or circles.\n",
    "\n",
    "Distribution plot: \n",
    "If one tail is longer than another, the distribution is skewed. These distributions are sometimes called asymmetric or asymmetrical distributions as they don’t show any kind of symmetry. Symmetry means that one half of the distribution is a mirror image of the other half. For example, the normal distribution is a symmetric distribution with no skew. The tails are exactly the same."
   ]
  },
  {
   "cell_type": "code",
   "execution_count": 25,
   "id": "e5e7ffe4",
   "metadata": {},
   "outputs": [
    {
     "name": "stdout",
     "output_type": "stream",
     "text": [
      "1º Quartile:  32.0\n",
      "2º Quartile:  39.0\n",
      "3º Quartile:  48.0\n",
      "4º Quartile:  95.0\n",
      "Ages above:  72.0 are outliers\n"
     ]
    }
   ],
   "source": [
    "# Quartiles\n",
    "print('1º Quartile: ', bank_client['age'].quantile(q = 0.25))\n",
    "print('2º Quartile: ', bank_client['age'].quantile(q = 0.50))\n",
    "print('3º Quartile: ', bank_client['age'].quantile(q = 0.75))\n",
    "print('4º Quartile: ', bank_client['age'].quantile(q = 1.00))\n",
    "#Calculate the outliers:\n",
    "  # Interquartile range, IQR = Q3 - Q1\n",
    "  # lower_limit = q1 - (IQR * 1.5)\n",
    "  # upper_limit = q3 + (IQR * 1.5)\n",
    "print('Ages above: ', bank_client['age'].quantile(q = 0.75) + \n",
    "                      1.5*(bank_client['age'].quantile(q = 0.75) - bank_client['age'].quantile(q = 0.25)), 'are outliers')"
   ]
  },
  {
   "cell_type": "code",
   "execution_count": 26,
   "id": "77b4cfe4",
   "metadata": {},
   "outputs": [
    {
     "name": "stdout",
     "output_type": "stream",
     "text": [
      "Numerber of outliers:  434\n",
      "Number of clients:  30907\n"
     ]
    }
   ],
   "source": [
    "print('Numerber of outliers: ', bank_client[bank_client['age'] > 70.5]['age'].count())\n",
    "print('Number of clients: ', len(bank_client))"
   ]
  },
  {
   "cell_type": "code",
   "execution_count": 27,
   "id": "05b7940e",
   "metadata": {},
   "outputs": [],
   "source": [
    "#function to creat group of ages, this helps because we have 77 differente values here\n",
    "def age(dataframe):\n",
    "    dataframe.loc[dataframe['age'] <= 33, 'age'] = 1\n",
    "    dataframe.loc[(dataframe['age'] > 33) & (dataframe['age'] <= 39), 'age'] = 2\n",
    "    dataframe.loc[(dataframe['age'] > 39) & (dataframe['age'] <= 48), 'age'] = 3\n",
    "    dataframe.loc[(dataframe['age'] > 48) & (dataframe['age'] <= 98), 'age'] = 4\n",
    "           \n",
    "    return dataframe\n",
    "\n",
    "age(bank_client);"
   ]
  },
  {
   "cell_type": "code",
   "execution_count": 28,
   "id": "cacf8125",
   "metadata": {},
   "outputs": [
    {
     "data": {
      "image/png": "[encoded data removed]",
      "text/plain": [
       "<Figure size 2000x800 with 1 Axes>"
      ]
     },
     "metadata": {},
     "output_type": "display_data"
    }
   ],
   "source": [
    "#Jobs\n",
    "# What kind of jobs clients this bank have\n",
    "fig, ax = plt.subplots()\n",
    "fig.set_size_inches(20, 8)\n",
    "sns.countplot(x = 'job', data = bank_client)\n",
    "ax.set_xlabel('Job', fontsize=15)\n",
    "ax.set_ylabel('Count', fontsize=15)\n",
    "ax.set_title('Age Count Distribution', fontsize=15)\n",
    "ax.tick_params(labelsize=15)\n"
   ]
  },
  {
   "cell_type": "code",
   "execution_count": 29,
   "id": "6e1340e4",
   "metadata": {
    "scrolled": false
   },
   "outputs": [
    {
     "data": {
      "image/png": "[encoded data removed]",
      "text/plain": [
       "<Figure size 1000x500 with 1 Axes>"
      ]
     },
     "metadata": {},
     "output_type": "display_data"
    }
   ],
   "source": [
    "# Martial Status\n",
    "fig, ax = plt.subplots()\n",
    "fig.set_size_inches(10, 5)\n",
    "sns.countplot(x = 'marital', data = bank_client)\n",
    "ax.set_xlabel('Marital', fontsize=15)\n",
    "ax.set_ylabel('Count', fontsize=15)\n",
    "ax.set_title('Martial Status Distribution', fontsize=15)\n",
    "ax.tick_params(labelsize=15)\n",
    "sns.despine()"
   ]
  },
  {
   "cell_type": "markdown",
   "id": "67f0d246",
   "metadata": {},
   "source": [
    "Most of the people are married and single"
   ]
  },
  {
   "cell_type": "code",
   "execution_count": 30,
   "id": "bf05f2cf",
   "metadata": {},
   "outputs": [
    {
     "data": {
      "image/png": "[encoded data removed]",
      "text/plain": [
       "<Figure size 2000x500 with 1 Axes>"
      ]
     },
     "metadata": {},
     "output_type": "display_data"
    }
   ],
   "source": [
    "# Education\n",
    "fig, ax = plt.subplots()\n",
    "fig.set_size_inches(20, 5)\n",
    "sns.countplot(x = 'education', data = bank_client)\n",
    "ax.set_xlabel('Education', fontsize=15)\n",
    "ax.set_ylabel('Count', fontsize=15)\n",
    "ax.set_title('Education Count Distribution', fontsize=15)\n",
    "ax.tick_params(labelsize=15)\n",
    "sns.despine()"
   ]
  },
  {
   "cell_type": "code",
   "execution_count": 31,
   "id": "b32f4aa4",
   "metadata": {},
   "outputs": [
    {
     "data": {
      "image/png": "[encoded data removed]",
      "text/plain": [
       "<Figure size 2000x800 with 3 Axes>"
      ]
     },
     "metadata": {},
     "output_type": "display_data"
    }
   ],
   "source": [
    "# Default, has credit in default ?\n",
    "fig, (ax1, ax2, ax3) = plt.subplots(nrows = 1, ncols = 3, figsize = (20,8))\n",
    "sns.countplot(x = 'default', data = bank_client, ax = ax1, order = ['no', 'yes'])\n",
    "ax1.set_title('Default', fontsize=15)\n",
    "ax1.set_xlabel('')\n",
    "ax1.set_ylabel('Count', fontsize=15)\n",
    "ax1.tick_params(labelsize=15)\n",
    "\n",
    "# Housing, has housing loan ?\n",
    "sns.countplot(x = 'housing', data = bank_client, ax = ax2, order = ['no', 'yes'])\n",
    "ax2.set_title('Housing', fontsize=15)\n",
    "ax2.set_xlabel('')\n",
    "ax2.set_ylabel('Count', fontsize=15)\n",
    "ax2.tick_params(labelsize=15)\n",
    "\n",
    "# Loan, has personal loan ?\n",
    "sns.countplot(x = 'loan', data = bank_client, ax = ax3, order = ['no', 'yes'])\n",
    "ax3.set_title('Loan', fontsize=15)\n",
    "ax3.set_xlabel('')\n",
    "ax3.set_ylabel('Count', fontsize=15)\n",
    "ax3.tick_params(labelsize=15)\n",
    "\n",
    "plt.subplots_adjust(wspace=0.25)"
   ]
  },
  {
   "cell_type": "markdown",
   "id": "9084acf1",
   "metadata": {},
   "source": [
    "###### Converting categorical features to numerical"
   ]
  },
  {
   "cell_type": "code",
   "execution_count": 32,
   "id": "a570e1fe",
   "metadata": {},
   "outputs": [],
   "source": [
    "class CategoricalToNumerical():\n",
    "    def __init__(self):\n",
    "        self.columns = None\n",
    "        self.mapping = {}\n",
    "        \n",
    "    def fit(self, X, y=None):\n",
    "        self.columns = X.columns\n",
    "        for col in X.columns:\n",
    "            if X[col].dtype == 'object':\n",
    "                values = list(set(X[col]))\n",
    "                self.mapping[col] = {val:i for i, val in enumerate(values)}\n",
    "        return self\n",
    "    \n",
    "    def transform(self, X):\n",
    "        X = X.copy()\n",
    "        for col in X.columns:\n",
    "            if col in self.mapping:\n",
    "                X[col] = X[col].apply(lambda x: self.mapping[col].get(x, -1))\n",
    "        return X\n"
   ]
  },
  {
   "cell_type": "code",
   "execution_count": 33,
   "id": "4ed90eb8",
   "metadata": {},
   "outputs": [],
   "source": [
    "# define categorical columns\n",
    "categorical_cols = ['job', 'marital','education','default','housing','loan']\n",
    "\n",
    "# create an instance of CategoricalToNumerical transformer\n",
    "cat_to_num_transformer = CategoricalToNumerical()\n",
    "\n",
    "# fit the transformer to the training data\n",
    "cat_to_num_transformer.fit(bank_client[categorical_cols])\n",
    "\n",
    "# transform the categorical columns in the training and test data\n",
    "bank_client[categorical_cols] = cat_to_num_transformer.transform(bank_client[categorical_cols])"
   ]
  },
  {
   "cell_type": "code",
   "execution_count": 34,
   "id": "5ecb0df6",
   "metadata": {},
   "outputs": [
    {
     "data": {
      "text/html": [
       "<div>\n",
       "<style scoped>\n",
       "    .dataframe tbody tr th:only-of-type {\n",
       "        vertical-align: middle;\n",
       "    }\n",
       "\n",
       "    .dataframe tbody tr th {\n",
       "        vertical-align: top;\n",
       "    }\n",
       "\n",
       "    .dataframe thead th {\n",
       "        text-align: right;\n",
       "    }\n",
       "</style>\n",
       "<table border=\"1\" class=\"dataframe\">\n",
       "  <thead>\n",
       "    <tr style=\"text-align: right;\">\n",
       "      <th></th>\n",
       "      <th>age</th>\n",
       "      <th>job</th>\n",
       "      <th>marital</th>\n",
       "      <th>education</th>\n",
       "      <th>default</th>\n",
       "      <th>housing</th>\n",
       "      <th>loan</th>\n",
       "    </tr>\n",
       "  </thead>\n",
       "  <tbody>\n",
       "    <tr>\n",
       "      <th>0</th>\n",
       "      <td>1</td>\n",
       "      <td>5</td>\n",
       "      <td>0</td>\n",
       "      <td>2</td>\n",
       "      <td>0</td>\n",
       "      <td>0</td>\n",
       "      <td>0</td>\n",
       "    </tr>\n",
       "    <tr>\n",
       "      <th>1</th>\n",
       "      <td>4</td>\n",
       "      <td>3</td>\n",
       "      <td>1</td>\n",
       "      <td>1</td>\n",
       "      <td>0</td>\n",
       "      <td>0</td>\n",
       "      <td>0</td>\n",
       "    </tr>\n",
       "    <tr>\n",
       "      <th>2</th>\n",
       "      <td>3</td>\n",
       "      <td>3</td>\n",
       "      <td>1</td>\n",
       "      <td>2</td>\n",
       "      <td>0</td>\n",
       "      <td>0</td>\n",
       "      <td>1</td>\n",
       "    </tr>\n",
       "    <tr>\n",
       "      <th>3</th>\n",
       "      <td>1</td>\n",
       "      <td>8</td>\n",
       "      <td>0</td>\n",
       "      <td>2</td>\n",
       "      <td>0</td>\n",
       "      <td>0</td>\n",
       "      <td>0</td>\n",
       "    </tr>\n",
       "    <tr>\n",
       "      <th>4</th>\n",
       "      <td>1</td>\n",
       "      <td>8</td>\n",
       "      <td>0</td>\n",
       "      <td>2</td>\n",
       "      <td>0</td>\n",
       "      <td>1</td>\n",
       "      <td>1</td>\n",
       "    </tr>\n",
       "  </tbody>\n",
       "</table>\n",
       "</div>"
      ],
      "text/plain": [
       "   age  job  marital  education  default  housing  loan\n",
       "0    1    5        0          2        0        0     0\n",
       "1    4    3        1          1        0        0     0\n",
       "2    3    3        1          2        0        0     1\n",
       "3    1    8        0          2        0        0     0\n",
       "4    1    8        0          2        0        1     1"
      ]
     },
     "execution_count": 34,
     "metadata": {},
     "output_type": "execute_result"
    }
   ],
   "source": [
    "bank_client.head()"
   ]
  },
  {
   "cell_type": "markdown",
   "id": "ffb73fbd",
   "metadata": {},
   "source": [
    "### Attributes related with the last contact of the current campaign:"
   ]
  },
  {
   "cell_type": "code",
   "execution_count": 35,
   "id": "e4fd72e2",
   "metadata": {},
   "outputs": [
    {
     "data": {
      "text/html": [
       "<div>\n",
       "<style scoped>\n",
       "    .dataframe tbody tr th:only-of-type {\n",
       "        vertical-align: middle;\n",
       "    }\n",
       "\n",
       "    .dataframe tbody tr th {\n",
       "        vertical-align: top;\n",
       "    }\n",
       "\n",
       "    .dataframe thead th {\n",
       "        text-align: right;\n",
       "    }\n",
       "</style>\n",
       "<table border=\"1\" class=\"dataframe\">\n",
       "  <thead>\n",
       "    <tr style=\"text-align: right;\">\n",
       "      <th></th>\n",
       "      <th>contact</th>\n",
       "      <th>day</th>\n",
       "      <th>month</th>\n",
       "      <th>duration</th>\n",
       "    </tr>\n",
       "  </thead>\n",
       "  <tbody>\n",
       "    <tr>\n",
       "      <th>0</th>\n",
       "      <td>cellular</td>\n",
       "      <td>4</td>\n",
       "      <td>jul</td>\n",
       "      <td>255</td>\n",
       "    </tr>\n",
       "    <tr>\n",
       "      <th>1</th>\n",
       "      <td>cellular</td>\n",
       "      <td>4</td>\n",
       "      <td>jul</td>\n",
       "      <td>297</td>\n",
       "    </tr>\n",
       "    <tr>\n",
       "      <th>2</th>\n",
       "      <td>cellular</td>\n",
       "      <td>4</td>\n",
       "      <td>jul</td>\n",
       "      <td>668</td>\n",
       "    </tr>\n",
       "    <tr>\n",
       "      <th>3</th>\n",
       "      <td>telephone</td>\n",
       "      <td>4</td>\n",
       "      <td>jul</td>\n",
       "      <td>65</td>\n",
       "    </tr>\n",
       "    <tr>\n",
       "      <th>4</th>\n",
       "      <td>cellular</td>\n",
       "      <td>4</td>\n",
       "      <td>jul</td>\n",
       "      <td>436</td>\n",
       "    </tr>\n",
       "  </tbody>\n",
       "</table>\n",
       "</div>"
      ],
      "text/plain": [
       "     contact  day month  duration\n",
       "0   cellular    4   jul       255\n",
       "1   cellular    4   jul       297\n",
       "2   cellular    4   jul       668\n",
       "3  telephone    4   jul        65\n",
       "4   cellular    4   jul       436"
      ]
     },
     "execution_count": 35,
     "metadata": {},
     "output_type": "execute_result"
    }
   ],
   "source": [
    "# Slicing DataFrame to treat separately, make things more easy\n",
    "bank_related = bank_data.iloc[: , 8:12]\n",
    "bank_related.head()"
   ]
  },
  {
   "cell_type": "code",
   "execution_count": 36,
   "id": "41d650b8",
   "metadata": {},
   "outputs": [
    {
     "name": "stdout",
     "output_type": "stream",
     "text": [
      "\n",
      " contact: ['cellular' 'telephone']\n",
      "\n",
      " Day of week: [ 4  7  8  9 10 11 14 15 16 17 18 21 22 23 24 25 28 29 30 31  5  6 12 13\n",
      " 19 20 26 27  2  3  1]\n",
      "\n",
      " month: ['jul' 'aug' 'oct' 'nov' 'dec' 'jan' 'feb' 'mar' 'apr' 'may' 'jun' 'sep']\n"
     ]
    }
   ],
   "source": [
    "print('\\n contact:', bank_related['contact'].unique())\n",
    "print('\\n Day of week:', bank_related['day'].unique())\n",
    "print('\\n month:', bank_related['month'].unique())"
   ]
  },
  {
   "cell_type": "markdown",
   "id": "8bc1f56d",
   "metadata": {},
   "source": [
    "Day of week should be last contact day of the week (categorical: 'mon','tue','wed','thu','fri') but here data might be wrong better to drop the feature and see the model performance"
   ]
  },
  {
   "cell_type": "code",
   "execution_count": 37,
   "id": "329c4c02",
   "metadata": {},
   "outputs": [],
   "source": [
    "#droping day of week column\n",
    "bank_related=bank_related.drop(labels='day',axis=1)"
   ]
  },
  {
   "cell_type": "code",
   "execution_count": 38,
   "id": "0739e9ee",
   "metadata": {
    "scrolled": false
   },
   "outputs": [
    {
     "data": {
      "image/png": "[encoded data removed]",
      "text/plain": [
       "<Figure size 1300x500 with 2 Axes>"
      ]
     },
     "metadata": {},
     "output_type": "display_data"
    }
   ],
   "source": [
    "#boxplot of duration feature\n",
    "fig, (ax1, ax2) = plt.subplots(nrows = 1, ncols = 2, figsize = (13, 5))\n",
    "sns.boxplot(x = 'duration', data = bank_related, orient = 'v', ax = ax1)\n",
    "ax1.set_xlabel('Calls', fontsize=10)\n",
    "ax1.set_ylabel('Duration', fontsize=10)\n",
    "ax1.set_title('Calls Distribution', fontsize=10)\n",
    "ax1.tick_params(labelsize=10)\n",
    "\n",
    "sns.distplot(bank_related['duration'], ax = ax2)\n",
    "sns.despine(ax = ax2)\n",
    "ax2.set_xlabel('Duration Calls', fontsize=10)\n",
    "ax2.set_ylabel('Occurence', fontsize=10)\n",
    "ax2.set_title('Duration x Ocucurence', fontsize=10)\n",
    "ax2.tick_params(labelsize=10)\n"
   ]
  },
  {
   "cell_type": "code",
   "execution_count": 39,
   "id": "d5ff6548",
   "metadata": {},
   "outputs": [
    {
     "name": "stdout",
     "output_type": "stream",
     "text": [
      "1º Quartile:  104.0\n",
      "2º Quartile:  181.0\n",
      "3º Quartile:  322.0\n",
      "4º Quartile:  4918.0\n",
      "Duration calls above:  649.0 are outliers\n"
     ]
    }
   ],
   "source": [
    "# Quartiles\n",
    "print('1º Quartile: ', bank_related['duration'].quantile(q = 0.25))\n",
    "print('2º Quartile: ', bank_related['duration'].quantile(q = 0.50))\n",
    "print('3º Quartile: ', bank_related['duration'].quantile(q = 0.75))\n",
    "print('4º Quartile: ', bank_related['duration'].quantile(q = 1.00))\n",
    "#Calculate the outliers:\n",
    "  # Interquartile range, IQR = Q3 - Q1\n",
    "  # lower_limit = q1 - (IQR * 1.5)\n",
    "  # upper_limit = q3 + (IQR * 1.5)\n",
    "    \n",
    "print('Duration calls above: ', bank_related['duration'].quantile(q = 0.75) + \n",
    "                      1.5*(bank_related['duration'].quantile(q = 0.75) - bank_related['duration'].quantile(q = 0.25)), 'are outliers')"
   ]
  },
  {
   "cell_type": "code",
   "execution_count": 40,
   "id": "64862912",
   "metadata": {},
   "outputs": [
    {
     "name": "stdout",
     "output_type": "stream",
     "text": [
      "Numerber of outliers:  2252\n",
      "Number of clients:  30907\n"
     ]
    }
   ],
   "source": [
    "print('Numerber of outliers: ', bank_related[bank_related['duration'] > 643]['duration'].count())\n",
    "print('Number of clients: ', len(bank_related))"
   ]
  },
  {
   "cell_type": "code",
   "execution_count": 41,
   "id": "405b585d",
   "metadata": {},
   "outputs": [
    {
     "data": {
      "text/html": [
       "<div>\n",
       "<style scoped>\n",
       "    .dataframe tbody tr th:only-of-type {\n",
       "        vertical-align: middle;\n",
       "    }\n",
       "\n",
       "    .dataframe tbody tr th {\n",
       "        vertical-align: top;\n",
       "    }\n",
       "\n",
       "    .dataframe thead th {\n",
       "        text-align: right;\n",
       "    }\n",
       "</style>\n",
       "<table border=\"1\" class=\"dataframe\">\n",
       "  <thead>\n",
       "    <tr style=\"text-align: right;\">\n",
       "      <th></th>\n",
       "      <th>age</th>\n",
       "      <th>job</th>\n",
       "      <th>marital</th>\n",
       "      <th>education</th>\n",
       "      <th>default</th>\n",
       "      <th>balance</th>\n",
       "      <th>housing</th>\n",
       "      <th>loan</th>\n",
       "      <th>contact</th>\n",
       "      <th>day</th>\n",
       "      <th>month</th>\n",
       "      <th>duration</th>\n",
       "      <th>campaign</th>\n",
       "      <th>pdays</th>\n",
       "      <th>previous</th>\n",
       "      <th>y</th>\n",
       "    </tr>\n",
       "  </thead>\n",
       "  <tbody>\n",
       "    <tr>\n",
       "      <th>9886</th>\n",
       "      <td>35</td>\n",
       "      <td>technician</td>\n",
       "      <td>married</td>\n",
       "      <td>secondary</td>\n",
       "      <td>no</td>\n",
       "      <td>5535</td>\n",
       "      <td>no</td>\n",
       "      <td>no</td>\n",
       "      <td>cellular</td>\n",
       "      <td>26</td>\n",
       "      <td>aug</td>\n",
       "      <td>0</td>\n",
       "      <td>15</td>\n",
       "      <td>-1</td>\n",
       "      <td>0</td>\n",
       "      <td>no</td>\n",
       "    </tr>\n",
       "    <tr>\n",
       "      <th>22823</th>\n",
       "      <td>31</td>\n",
       "      <td>entrepreneur</td>\n",
       "      <td>married</td>\n",
       "      <td>secondary</td>\n",
       "      <td>no</td>\n",
       "      <td>162</td>\n",
       "      <td>yes</td>\n",
       "      <td>yes</td>\n",
       "      <td>cellular</td>\n",
       "      <td>11</td>\n",
       "      <td>may</td>\n",
       "      <td>0</td>\n",
       "      <td>2</td>\n",
       "      <td>-1</td>\n",
       "      <td>0</td>\n",
       "      <td>no</td>\n",
       "    </tr>\n",
       "  </tbody>\n",
       "</table>\n",
       "</div>"
      ],
      "text/plain": [
       "       age           job  marital  education default  balance housing loan  \\\n",
       "9886    35    technician  married  secondary      no     5535      no   no   \n",
       "22823   31  entrepreneur  married  secondary      no      162     yes  yes   \n",
       "\n",
       "        contact  day month  duration  campaign  pdays  previous   y  \n",
       "9886   cellular   26   aug         0        15     -1         0  no  \n",
       "22823  cellular   11   may         0         2     -1         0  no  "
      ]
     },
     "execution_count": 41,
     "metadata": {},
     "output_type": "execute_result"
    }
   ],
   "source": [
    "# if the call duration is equal to 0, then is obviously that this person didn't subscribed, \n",
    "bank_data[(bank_data['duration'] == 0)]"
   ]
  },
  {
   "cell_type": "code",
   "execution_count": 42,
   "id": "2e27aa6c",
   "metadata": {},
   "outputs": [
    {
     "data": {
      "image/png": "[encoded data removed]",
      "text/plain": [
       "<Figure size 1500x600 with 2 Axes>"
      ]
     },
     "metadata": {},
     "output_type": "display_data"
    }
   ],
   "source": [
    "#Contacts made by which means\n",
    "fig, (ax1, ax2) = plt.subplots(nrows = 1, ncols = 2, figsize = (15,6))\n",
    "sns.countplot(bank_related['contact'], ax = ax1)\n",
    "ax1.set_xlabel('Contact', fontsize = 10)\n",
    "ax1.set_ylabel('Count', fontsize = 10)\n",
    "ax1.set_title('Contact Counts')\n",
    "ax1.tick_params(labelsize=10)\n",
    "\n",
    "#Contacts month of the year\n",
    "sns.countplot(bank_related['month'], ax = ax2, order = ['jan','feb','mar', 'apr', 'may', 'jun', 'jul', 'aug', 'sep', 'oct', 'nov', 'dec'])\n",
    "ax2.set_xlabel('Months', fontsize = 10)\n",
    "ax2.set_ylabel('Count')\n",
    "ax2.set_title('Months Counts')\n",
    "ax2.tick_params(labelsize=10)"
   ]
  },
  {
   "cell_type": "code",
   "execution_count": 43,
   "id": "7de4afb1",
   "metadata": {},
   "outputs": [],
   "source": [
    "#Converting categorical attributes to numerical\n",
    "# define categorical columns\n",
    "categorical_cols = ['contact', 'month']\n",
    "\n",
    "# create an instance of CategoricalToNumerical transformer\n",
    "cat_to_num_transformer = CategoricalToNumerical()\n",
    "\n",
    "# fit the transformer to the training data\n",
    "cat_to_num_transformer.fit(bank_related[categorical_cols])\n",
    "\n",
    "# transform the categorical columns in the training and test data\n",
    "bank_related[categorical_cols] = cat_to_num_transformer.transform(bank_related[categorical_cols])"
   ]
  },
  {
   "cell_type": "code",
   "execution_count": 44,
   "id": "981429aa",
   "metadata": {},
   "outputs": [
    {
     "data": {
      "text/html": [
       "<div>\n",
       "<style scoped>\n",
       "    .dataframe tbody tr th:only-of-type {\n",
       "        vertical-align: middle;\n",
       "    }\n",
       "\n",
       "    .dataframe tbody tr th {\n",
       "        vertical-align: top;\n",
       "    }\n",
       "\n",
       "    .dataframe thead th {\n",
       "        text-align: right;\n",
       "    }\n",
       "</style>\n",
       "<table border=\"1\" class=\"dataframe\">\n",
       "  <thead>\n",
       "    <tr style=\"text-align: right;\">\n",
       "      <th></th>\n",
       "      <th>contact</th>\n",
       "      <th>month</th>\n",
       "      <th>duration</th>\n",
       "    </tr>\n",
       "  </thead>\n",
       "  <tbody>\n",
       "    <tr>\n",
       "      <th>0</th>\n",
       "      <td>1</td>\n",
       "      <td>5</td>\n",
       "      <td>255</td>\n",
       "    </tr>\n",
       "    <tr>\n",
       "      <th>1</th>\n",
       "      <td>1</td>\n",
       "      <td>5</td>\n",
       "      <td>297</td>\n",
       "    </tr>\n",
       "    <tr>\n",
       "      <th>2</th>\n",
       "      <td>1</td>\n",
       "      <td>5</td>\n",
       "      <td>668</td>\n",
       "    </tr>\n",
       "    <tr>\n",
       "      <th>3</th>\n",
       "      <td>0</td>\n",
       "      <td>5</td>\n",
       "      <td>65</td>\n",
       "    </tr>\n",
       "    <tr>\n",
       "      <th>4</th>\n",
       "      <td>1</td>\n",
       "      <td>5</td>\n",
       "      <td>436</td>\n",
       "    </tr>\n",
       "  </tbody>\n",
       "</table>\n",
       "</div>"
      ],
      "text/plain": [
       "   contact  month  duration\n",
       "0        1      5       255\n",
       "1        1      5       297\n",
       "2        1      5       668\n",
       "3        0      5        65\n",
       "4        1      5       436"
      ]
     },
     "execution_count": 44,
     "metadata": {},
     "output_type": "execute_result"
    }
   ],
   "source": [
    "bank_related.head()"
   ]
  },
  {
   "cell_type": "code",
   "execution_count": 45,
   "id": "ed27b4da",
   "metadata": {},
   "outputs": [],
   "source": [
    "#dividing duration to 5 classes\n",
    "def duration(data):\n",
    "\n",
    "    data.loc[data['duration'] <= 103, 'duration'] = 1\n",
    "    data.loc[(data['duration'] > 103) & (data['duration'] <= 180)  , 'duration']    = 2\n",
    "    data.loc[(data['duration'] > 180) & (data['duration'] <= 319)  , 'duration']   = 3\n",
    "    data.loc[(data['duration'] > 319) & (data['duration'] <= 643), 'duration'] = 4\n",
    "    data.loc[data['duration']  > 643, 'duration'] = 5\n",
    "\n",
    "    return data\n",
    "duration(bank_related);"
   ]
  },
  {
   "cell_type": "code",
   "execution_count": 46,
   "id": "d59b1a70",
   "metadata": {},
   "outputs": [
    {
     "data": {
      "text/html": [
       "<div>\n",
       "<style scoped>\n",
       "    .dataframe tbody tr th:only-of-type {\n",
       "        vertical-align: middle;\n",
       "    }\n",
       "\n",
       "    .dataframe tbody tr th {\n",
       "        vertical-align: top;\n",
       "    }\n",
       "\n",
       "    .dataframe thead th {\n",
       "        text-align: right;\n",
       "    }\n",
       "</style>\n",
       "<table border=\"1\" class=\"dataframe\">\n",
       "  <thead>\n",
       "    <tr style=\"text-align: right;\">\n",
       "      <th></th>\n",
       "      <th>contact</th>\n",
       "      <th>month</th>\n",
       "      <th>duration</th>\n",
       "    </tr>\n",
       "  </thead>\n",
       "  <tbody>\n",
       "    <tr>\n",
       "      <th>0</th>\n",
       "      <td>1</td>\n",
       "      <td>5</td>\n",
       "      <td>3</td>\n",
       "    </tr>\n",
       "    <tr>\n",
       "      <th>1</th>\n",
       "      <td>1</td>\n",
       "      <td>5</td>\n",
       "      <td>3</td>\n",
       "    </tr>\n",
       "    <tr>\n",
       "      <th>2</th>\n",
       "      <td>1</td>\n",
       "      <td>5</td>\n",
       "      <td>5</td>\n",
       "    </tr>\n",
       "    <tr>\n",
       "      <th>3</th>\n",
       "      <td>0</td>\n",
       "      <td>5</td>\n",
       "      <td>1</td>\n",
       "    </tr>\n",
       "    <tr>\n",
       "      <th>4</th>\n",
       "      <td>1</td>\n",
       "      <td>5</td>\n",
       "      <td>4</td>\n",
       "    </tr>\n",
       "  </tbody>\n",
       "</table>\n",
       "</div>"
      ],
      "text/plain": [
       "   contact  month  duration\n",
       "0        1      5         3\n",
       "1        1      5         3\n",
       "2        1      5         5\n",
       "3        0      5         1\n",
       "4        1      5         4"
      ]
     },
     "execution_count": 46,
     "metadata": {},
     "output_type": "execute_result"
    }
   ],
   "source": [
    "bank_related.head()"
   ]
  },
  {
   "cell_type": "markdown",
   "id": "17f1113b",
   "metadata": {},
   "source": [
    "#### Other attributes"
   ]
  },
  {
   "cell_type": "code",
   "execution_count": 47,
   "id": "56187120",
   "metadata": {},
   "outputs": [
    {
     "data": {
      "text/html": [
       "<div>\n",
       "<style scoped>\n",
       "    .dataframe tbody tr th:only-of-type {\n",
       "        vertical-align: middle;\n",
       "    }\n",
       "\n",
       "    .dataframe tbody tr th {\n",
       "        vertical-align: top;\n",
       "    }\n",
       "\n",
       "    .dataframe thead th {\n",
       "        text-align: right;\n",
       "    }\n",
       "</style>\n",
       "<table border=\"1\" class=\"dataframe\">\n",
       "  <thead>\n",
       "    <tr style=\"text-align: right;\">\n",
       "      <th></th>\n",
       "      <th>campaign</th>\n",
       "      <th>pdays</th>\n",
       "      <th>previous</th>\n",
       "    </tr>\n",
       "  </thead>\n",
       "  <tbody>\n",
       "    <tr>\n",
       "      <th>0</th>\n",
       "      <td>1</td>\n",
       "      <td>-1</td>\n",
       "      <td>0</td>\n",
       "    </tr>\n",
       "    <tr>\n",
       "      <th>1</th>\n",
       "      <td>1</td>\n",
       "      <td>-1</td>\n",
       "      <td>0</td>\n",
       "    </tr>\n",
       "    <tr>\n",
       "      <th>2</th>\n",
       "      <td>2</td>\n",
       "      <td>-1</td>\n",
       "      <td>0</td>\n",
       "    </tr>\n",
       "    <tr>\n",
       "      <th>3</th>\n",
       "      <td>2</td>\n",
       "      <td>-1</td>\n",
       "      <td>0</td>\n",
       "    </tr>\n",
       "    <tr>\n",
       "      <th>4</th>\n",
       "      <td>4</td>\n",
       "      <td>-1</td>\n",
       "      <td>0</td>\n",
       "    </tr>\n",
       "  </tbody>\n",
       "</table>\n",
       "</div>"
      ],
      "text/plain": [
       "   campaign  pdays  previous\n",
       "0         1     -1         0\n",
       "1         1     -1         0\n",
       "2         2     -1         0\n",
       "3         2     -1         0\n",
       "4         4     -1         0"
      ]
     },
     "execution_count": 47,
     "metadata": {},
     "output_type": "execute_result"
    }
   ],
   "source": [
    "bank_other = bank_data.loc[: , ['campaign', 'pdays','previous']]\n",
    "bank_other.head()"
   ]
  },
  {
   "cell_type": "code",
   "execution_count": 48,
   "id": "00736a89",
   "metadata": {},
   "outputs": [
    {
     "name": "stdout",
     "output_type": "stream",
     "text": [
      "\n",
      " campaign: [   1    2    4    3    6    5   19    9    8    7   14   15   11   12\n",
      "   30   33   13   20   10   24   26   35   17   27   16   31   28   21\n",
      "   18   23   22   29   25   34   36   39   43   32   38   50   44 5451\n",
      " 4551 4674  771 1563  891  546 5553 4552]\n",
      "\n",
      " pdays: [ -1 151 166  91  86 143  89 140 176 174 167 195 165 129 188 196 172 118\n",
      " 119 104 171 117 164 132 131 123 159 186 111 115 116 173 178 110 152 103\n",
      " 175 193 181 185 154 145 138 126 150  96 180 109 158 168  97 182 127 130\n",
      " 194 125 105 102  26 179  28 183 155 112 120 137 124 187 190 113 162 134\n",
      " 169 189   8 144 191 184 170 177   5  99 133  93  92  10 100 156 198 106\n",
      " 153 146 128   7 121 160 107  90  27 147 197 136 101 139 122 157 149 135\n",
      "  30 114  98 192 163  34  95 141  31 199  94 108  29 268 247 253 244 239\n",
      " 245 204 231 238 258 230 265  71 223 246 250 266 205 240 261 259 241 260\n",
      " 234 226 251 225 161 237 262 248 254 255 220 227 224 206 249 235 228 263\n",
      "   2 270 232 252 207 200 269 233 256 273 272 242 264 208 214 222 271 203\n",
      " 221 202 216 201 257 229 210 217  75 213  73  76 267 211 215  77 236   6\n",
      " 209 274   1 243 212 275  80 276   9 279  12 280  88 277  85  84 219  24\n",
      "  21 282  41 294  49 329 307 303 331 308 300  64 314 287 330 332 302 323\n",
      " 318 333  60 326 335 313 312 305 325 327 336 309 328 322  39 316 292 295\n",
      " 310 306 320 317 289  57 321 142 301 315 337 334 340 319  17  74 148 341\n",
      " 299 344 342 324 339 345 346 304 281 343 338  14 347  15 291 348 349 285\n",
      " 284  82  25 350 283 278  81   4  87  83  79  70  13 293  37  78  22 296\n",
      " 355  66  19  35 360 357 354 351 362 358 365 298 286 364 363  47 361 288\n",
      " 366 356 352 359 297 367 353 368  42 290  67 371 370 369  50  36 373 374\n",
      " 372 311 375 378  59  63 379  40  18  43  20  69  38  56  55  44 391  72\n",
      " 390  32  62 399 393  65 395 388 389 385 386  61 412 405 434 394 382 459\n",
      " 440 397 383  68 461 462 463 422  51 457 430 442 403 454 428 392 410 401\n",
      " 474 475 477 478  54 476 380 479  45  46 495  58  48 518  52 515 520 511\n",
      " 536 387 218  33 544 435 436 555 433 446 558 469 616 561 553 467 585 480\n",
      " 421 667 626 426 595 376 648 521 452 449 633 398  53 460 551 414 384 425\n",
      " 377 504 578 674 416 586 756 450 424 776 381 396 529 439 415 456 407 458\n",
      " 532 481 413 445 535 784 419 455 491 431 470 472 717 437   3 728 828 562\n",
      " 761 492 579 493 464 760 466 465 831 432 655 427 749 490 769 587 792 854\n",
      " 842 589 779 603 484 489 486 409 444 485 503 690 774 420 528 500 826 804\n",
      " 508 547 805 541 543 871 550 530]\n",
      "\n",
      " previous: [  0   3   1   4   2  16   6   5  10  12   7  18   9   8  11  14  15  26\n",
      "  37  13  25  20  27  17  23  38  29  24  51 275  22  19  21  30  58  28\n",
      "  32  40  55  35]\n"
     ]
    }
   ],
   "source": [
    "print('\\n campaign:', bank_other['campaign'].unique())\n",
    "print('\\n pdays:', bank_other['pdays'].unique())\n",
    "print('\\n previous:', bank_other['previous'].unique())"
   ]
  },
  {
   "cell_type": "code",
   "execution_count": 49,
   "id": "26c900b3",
   "metadata": {},
   "outputs": [
    {
     "data": {
      "image/png": "[encoded data removed]",
      "text/plain": [
       "<Figure size 1300x500 with 2 Axes>"
      ]
     },
     "metadata": {},
     "output_type": "display_data"
    }
   ],
   "source": [
    "#plot of campaign feature\n",
    "fig, (ax1, ax2) = plt.subplots(nrows = 1, ncols = 2, figsize = (13, 5))\n",
    "sns.boxplot(x = 'campaign', data = bank_other, orient = 'v', ax = ax1)\n",
    "ax1.set_xlabel('', fontsize=10)\n",
    "ax1.set_ylabel('number of contacts', fontsize=10)\n",
    "ax1.set_title('campaign', fontsize=10)\n",
    "ax1.tick_params(labelsize=10)\n",
    "\n",
    "sns.distplot(bank_other['campaign'], ax = ax2)\n",
    "sns.despine(ax = ax2)\n",
    "ax2.set_xlabel('Client', fontsize=10)\n",
    "ax2.set_ylabel('number of contacts', fontsize=10)\n",
    "ax2.set_title('campaign', fontsize=10)\n",
    "ax2.tick_params(labelsize=10)\n"
   ]
  },
  {
   "cell_type": "code",
   "execution_count": 50,
   "id": "759e166b",
   "metadata": {
    "scrolled": true
   },
   "outputs": [
    {
     "name": "stdout",
     "output_type": "stream",
     "text": [
      "1º Quartile:  1.0\n",
      "2º Quartile:  2.0\n",
      "3º Quartile:  3.0\n",
      "4º Quartile:  5553.0\n",
      "Campaign above:  6.0 are outliers\n"
     ]
    }
   ],
   "source": [
    "print('1º Quartile: ', bank_other['campaign'].quantile(q = 0.25))\n",
    "print('2º Quartile: ', bank_other['campaign'].quantile(q = 0.50))\n",
    "print('3º Quartile: ', bank_other['campaign'].quantile(q = 0.75))\n",
    "print('4º Quartile: ', bank_other['campaign'].quantile(q = 1.00))\n",
    "#Calculate the outliers:\n",
    "  # Interquartile range, IQR = Q3 - Q1\n",
    "  # lower_limit = q1 - (IQR * 1.5)\n",
    "  # upper_limit = q3 + (IQR * 1.5)\n",
    "    \n",
    "print('Campaign above: ', bank_other['campaign'].quantile(q = 0.75) + \n",
    "                      1.5*(bank_other['campaign'].quantile(q = 0.75) - bank_other['campaign'].quantile(q = 0.25)), 'are outliers')"
   ]
  },
  {
   "cell_type": "code",
   "execution_count": 51,
   "id": "7de86541",
   "metadata": {},
   "outputs": [],
   "source": [
    "#Campaign column outlier treatment\n",
    "q3 = bank_other['campaign'].quantile(0.75)  \n",
    "q1 = bank_other['campaign'].quantile(0.25)\n",
    "#print(q3)\n",
    "#print(q1)\n",
    "IQR = q3 - q1\n",
    "#print(IQR)\n",
    "lower_limit = q1 - (IQR * 1.5)\n",
    "upper_limit = q3 + (IQR * 1.5)\n",
    "bank_other['campaign']=np.where(bank_other['campaign']>upper_limit,upper_limit,\n",
    "    np.where(bank_other['campaign']<lower_limit,lower_limit,bank_other['campaign']))"
   ]
  },
  {
   "cell_type": "code",
   "execution_count": 52,
   "id": "138d5bd4",
   "metadata": {},
   "outputs": [
    {
     "data": {
      "image/png": "[encoded data removed]",
      "text/plain": [
       "<Figure size 1300x500 with 2 Axes>"
      ]
     },
     "metadata": {},
     "output_type": "display_data"
    }
   ],
   "source": [
    "#plot of campaign feature after outlier treatment\n",
    "fig, (ax1, ax2) = plt.subplots(nrows = 1, ncols = 2, figsize = (13, 5))\n",
    "sns.boxplot(x = 'campaign', data = bank_other, orient = 'v', ax = ax1)\n",
    "ax1.set_xlabel('', fontsize=10)\n",
    "ax1.set_ylabel('number of contacts', fontsize=10)\n",
    "ax1.set_title('campaign', fontsize=10)\n",
    "ax1.tick_params(labelsize=10)\n",
    "\n",
    "sns.distplot(bank_other['campaign'], ax = ax2)\n",
    "sns.despine(ax = ax2)\n",
    "ax2.set_xlabel('Client', fontsize=10)\n",
    "ax2.set_ylabel('number of contacts', fontsize=10)\n",
    "ax2.set_title('campaign', fontsize=10)\n",
    "ax2.tick_params(labelsize=10)\n"
   ]
  },
  {
   "cell_type": "code",
   "execution_count": 53,
   "id": "eb2d8aeb",
   "metadata": {},
   "outputs": [
    {
     "data": {
      "image/png": "[encoded data removed]",
      "text/plain": [
       "<Figure size 1300x500 with 2 Axes>"
      ]
     },
     "metadata": {},
     "output_type": "display_data"
    }
   ],
   "source": [
    "#plot of pdays feature\n",
    "fig, (ax1, ax2) = plt.subplots(nrows = 1, ncols = 2, figsize = (13, 5))\n",
    "sns.boxplot(x = 'pdays', data = bank_other, orient = 'v', ax = ax1)\n",
    "ax1.set_xlabel('', fontsize=10)\n",
    "ax1.set_ylabel('number of days that passed', fontsize=10)\n",
    "ax1.set_title('pdays', fontsize=10)\n",
    "ax1.tick_params(labelsize=10)\n",
    "\n",
    "sns.distplot(bank_other['pdays'], ax = ax2)\n",
    "sns.despine(ax = ax2)\n",
    "ax2.set_xlabel('number of days that passed ', fontsize=10)\n",
    "ax2.set_ylabel('', fontsize=10)\n",
    "ax2.set_title('previous campaign days', fontsize=10)\n",
    "ax2.tick_params(labelsize=10)\n"
   ]
  },
  {
   "cell_type": "code",
   "execution_count": 54,
   "id": "8b4d157b",
   "metadata": {
    "scrolled": false
   },
   "outputs": [
    {
     "data": {
      "text/html": [
       "<div>\n",
       "<style scoped>\n",
       "    .dataframe tbody tr th:only-of-type {\n",
       "        vertical-align: middle;\n",
       "    }\n",
       "\n",
       "    .dataframe tbody tr th {\n",
       "        vertical-align: top;\n",
       "    }\n",
       "\n",
       "    .dataframe thead th {\n",
       "        text-align: right;\n",
       "    }\n",
       "</style>\n",
       "<table border=\"1\" class=\"dataframe\">\n",
       "  <thead>\n",
       "    <tr style=\"text-align: right;\">\n",
       "      <th></th>\n",
       "      <th>campaign</th>\n",
       "      <th>pdays</th>\n",
       "      <th>previous</th>\n",
       "    </tr>\n",
       "  </thead>\n",
       "  <tbody>\n",
       "  </tbody>\n",
       "</table>\n",
       "</div>"
      ],
      "text/plain": [
       "Empty DataFrame\n",
       "Columns: [campaign, pdays, previous]\n",
       "Index: []"
      ]
     },
     "execution_count": 54,
     "metadata": {},
     "output_type": "execute_result"
    }
   ],
   "source": [
    "bank_other[bank_other['pdays']==999]"
   ]
  },
  {
   "cell_type": "code",
   "execution_count": 55,
   "id": "106ee7a3",
   "metadata": {},
   "outputs": [
    {
     "data": {
      "text/html": [
       "<div>\n",
       "<style scoped>\n",
       "    .dataframe tbody tr th:only-of-type {\n",
       "        vertical-align: middle;\n",
       "    }\n",
       "\n",
       "    .dataframe tbody tr th {\n",
       "        vertical-align: top;\n",
       "    }\n",
       "\n",
       "    .dataframe thead th {\n",
       "        text-align: right;\n",
       "    }\n",
       "</style>\n",
       "<table border=\"1\" class=\"dataframe\">\n",
       "  <thead>\n",
       "    <tr style=\"text-align: right;\">\n",
       "      <th></th>\n",
       "      <th>campaign</th>\n",
       "      <th>pdays</th>\n",
       "      <th>previous</th>\n",
       "    </tr>\n",
       "  </thead>\n",
       "  <tbody>\n",
       "    <tr>\n",
       "      <th>0</th>\n",
       "      <td>1.0</td>\n",
       "      <td>-1</td>\n",
       "      <td>0</td>\n",
       "    </tr>\n",
       "    <tr>\n",
       "      <th>1</th>\n",
       "      <td>1.0</td>\n",
       "      <td>-1</td>\n",
       "      <td>0</td>\n",
       "    </tr>\n",
       "    <tr>\n",
       "      <th>2</th>\n",
       "      <td>2.0</td>\n",
       "      <td>-1</td>\n",
       "      <td>0</td>\n",
       "    </tr>\n",
       "    <tr>\n",
       "      <th>3</th>\n",
       "      <td>2.0</td>\n",
       "      <td>-1</td>\n",
       "      <td>0</td>\n",
       "    </tr>\n",
       "    <tr>\n",
       "      <th>4</th>\n",
       "      <td>4.0</td>\n",
       "      <td>-1</td>\n",
       "      <td>0</td>\n",
       "    </tr>\n",
       "    <tr>\n",
       "      <th>...</th>\n",
       "      <td>...</td>\n",
       "      <td>...</td>\n",
       "      <td>...</td>\n",
       "    </tr>\n",
       "    <tr>\n",
       "      <th>30899</th>\n",
       "      <td>1.0</td>\n",
       "      <td>-1</td>\n",
       "      <td>0</td>\n",
       "    </tr>\n",
       "    <tr>\n",
       "      <th>30901</th>\n",
       "      <td>2.0</td>\n",
       "      <td>-1</td>\n",
       "      <td>0</td>\n",
       "    </tr>\n",
       "    <tr>\n",
       "      <th>30902</th>\n",
       "      <td>3.0</td>\n",
       "      <td>-1</td>\n",
       "      <td>0</td>\n",
       "    </tr>\n",
       "    <tr>\n",
       "      <th>30903</th>\n",
       "      <td>2.0</td>\n",
       "      <td>-1</td>\n",
       "      <td>0</td>\n",
       "    </tr>\n",
       "    <tr>\n",
       "      <th>30905</th>\n",
       "      <td>4.0</td>\n",
       "      <td>-1</td>\n",
       "      <td>0</td>\n",
       "    </tr>\n",
       "  </tbody>\n",
       "</table>\n",
       "<p>23060 rows × 3 columns</p>\n",
       "</div>"
      ],
      "text/plain": [
       "       campaign  pdays  previous\n",
       "0           1.0     -1         0\n",
       "1           1.0     -1         0\n",
       "2           2.0     -1         0\n",
       "3           2.0     -1         0\n",
       "4           4.0     -1         0\n",
       "...         ...    ...       ...\n",
       "30899       1.0     -1         0\n",
       "30901       2.0     -1         0\n",
       "30902       3.0     -1         0\n",
       "30903       2.0     -1         0\n",
       "30905       4.0     -1         0\n",
       "\n",
       "[23060 rows x 3 columns]"
      ]
     },
     "execution_count": 55,
     "metadata": {},
     "output_type": "execute_result"
    }
   ],
   "source": [
    "bank_other[bank_other['pdays']==-1]"
   ]
  },
  {
   "cell_type": "markdown",
   "id": "bdc4da22",
   "metadata": {},
   "source": [
    "pdays value cannot be -1"
   ]
  },
  {
   "cell_type": "code",
   "execution_count": 56,
   "id": "7e50c30c",
   "metadata": {},
   "outputs": [],
   "source": [
    "#droping pdays of week column\n",
    "bank_other=bank_other.drop(labels='pdays',axis=1)"
   ]
  },
  {
   "cell_type": "code",
   "execution_count": 57,
   "id": "f8e21f54",
   "metadata": {
    "scrolled": false
   },
   "outputs": [
    {
     "data": {
      "image/png": "[encoded data removed]",
      "text/plain": [
       "<Figure size 1300x500 with 2 Axes>"
      ]
     },
     "metadata": {},
     "output_type": "display_data"
    }
   ],
   "source": [
    "#plot of previous feature\n",
    "fig, (ax1, ax2) = plt.subplots(nrows = 1, ncols = 2, figsize = (13, 5))\n",
    "sns.boxplot(x = 'previous', data = bank_other, orient = 'v', ax = ax1)\n",
    "ax1.set_xlabel('number of days that passed', fontsize=10)\n",
    "ax1.set_ylabel('', fontsize=10)\n",
    "ax1.set_title('number of contacts performed', fontsize=10)\n",
    "ax1.tick_params(labelsize=10)\n",
    "\n",
    "sns.distplot(bank_other['previous'], ax = ax2)\n",
    "sns.despine(ax = ax2)\n",
    "ax2.set_xlabel('number of days that passed ', fontsize=10)\n",
    "ax2.set_ylabel('', fontsize=10)\n",
    "ax2.set_title('number of contacts performed', fontsize=10)\n",
    "ax2.tick_params(labelsize=10)\n"
   ]
  },
  {
   "cell_type": "code",
   "execution_count": 58,
   "id": "05d2b16d",
   "metadata": {},
   "outputs": [
    {
     "name": "stdout",
     "output_type": "stream",
     "text": [
      "1º Quartile:  0.0\n",
      "2º Quartile:  0.0\n",
      "3º Quartile:  1.0\n",
      "4º Quartile:  275.0\n",
      "Campaign above:  2.5 are outliers\n"
     ]
    }
   ],
   "source": [
    "print('1º Quartile: ', bank_other['previous'].quantile(q = 0.25))\n",
    "print('2º Quartile: ', bank_other['previous'].quantile(q = 0.50))\n",
    "print('3º Quartile: ', bank_other['previous'].quantile(q = 0.75))\n",
    "print('4º Quartile: ', bank_other['previous'].quantile(q = 1.00))\n",
    "#Calculate the outliers:\n",
    "  # Interquartile range, IQR = Q3 - Q1\n",
    "  # lower_limit = q1 - (IQR * 1.5)\n",
    "  # upper_limit = q3 + (IQR * 1.5)\n",
    "    \n",
    "print('Campaign above: ', bank_other['previous'].quantile(q = 0.75) + \n",
    "                      1.5*(bank_other['previous'].quantile(q = 0.75) - bank_other['previous'].quantile(q = 0.25)), 'are outliers')"
   ]
  },
  {
   "cell_type": "code",
   "execution_count": 59,
   "id": "d5049974",
   "metadata": {},
   "outputs": [],
   "source": [
    "#Campaign column outlier treatment\n",
    "q3 = bank_other['previous'].quantile(0.75)  \n",
    "q1 = bank_other['previous'].quantile(0.25)\n",
    "#print(q3)\n",
    "#print(q1)\n",
    "IQR = q3 - q1\n",
    "#print(IQR)\n",
    "lower_limit = q1 - (IQR * 1.5)\n",
    "upper_limit = q3 + (IQR * 1.5)\n",
    "bank_other['previous']=np.where(bank_other['previous']>upper_limit,upper_limit,\n",
    "    np.where(bank_other['previous']<lower_limit,lower_limit,bank_other['previous']))"
   ]
  },
  {
   "cell_type": "code",
   "execution_count": 60,
   "id": "c218fb40",
   "metadata": {},
   "outputs": [
    {
     "data": {
      "image/png": "[encoded data removed]",
      "text/plain": [
       "<Figure size 1300x500 with 2 Axes>"
      ]
     },
     "metadata": {},
     "output_type": "display_data"
    }
   ],
   "source": [
    "#plot of previous feature after outlier treatment\n",
    "fig, (ax1, ax2) = plt.subplots(nrows = 1, ncols = 2, figsize = (13, 5))\n",
    "sns.boxplot(x = 'previous', data = bank_other, orient = 'v', ax = ax1)\n",
    "ax1.set_xlabel('number of days that passed', fontsize=10)\n",
    "ax1.set_ylabel('', fontsize=10)\n",
    "ax1.set_title('number of contacts performed', fontsize=10)\n",
    "ax1.tick_params(labelsize=10)\n",
    "\n",
    "sns.distplot(bank_other['previous'], ax = ax2)\n",
    "sns.despine(ax = ax2)\n",
    "ax2.set_xlabel('number of days that passed ', fontsize=10)\n",
    "ax2.set_ylabel('', fontsize=10)\n",
    "ax2.set_title('number of contacts performed', fontsize=10)\n",
    "ax2.tick_params(labelsize=10)\n"
   ]
  },
  {
   "cell_type": "code",
   "execution_count": 61,
   "id": "f40360a0",
   "metadata": {},
   "outputs": [],
   "source": [
    "#droping previous column\n",
    "#bank_other=bank_other.drop(labels='previous',axis=1)"
   ]
  },
  {
   "cell_type": "code",
   "execution_count": 62,
   "id": "117677f3",
   "metadata": {
    "scrolled": true
   },
   "outputs": [
    {
     "data": {
      "text/html": [
       "<div>\n",
       "<style scoped>\n",
       "    .dataframe tbody tr th:only-of-type {\n",
       "        vertical-align: middle;\n",
       "    }\n",
       "\n",
       "    .dataframe tbody tr th {\n",
       "        vertical-align: top;\n",
       "    }\n",
       "\n",
       "    .dataframe thead th {\n",
       "        text-align: right;\n",
       "    }\n",
       "</style>\n",
       "<table border=\"1\" class=\"dataframe\">\n",
       "  <thead>\n",
       "    <tr style=\"text-align: right;\">\n",
       "      <th></th>\n",
       "      <th>campaign</th>\n",
       "      <th>previous</th>\n",
       "    </tr>\n",
       "  </thead>\n",
       "  <tbody>\n",
       "    <tr>\n",
       "      <th>0</th>\n",
       "      <td>1.0</td>\n",
       "      <td>0.0</td>\n",
       "    </tr>\n",
       "    <tr>\n",
       "      <th>1</th>\n",
       "      <td>1.0</td>\n",
       "      <td>0.0</td>\n",
       "    </tr>\n",
       "    <tr>\n",
       "      <th>2</th>\n",
       "      <td>2.0</td>\n",
       "      <td>0.0</td>\n",
       "    </tr>\n",
       "    <tr>\n",
       "      <th>3</th>\n",
       "      <td>2.0</td>\n",
       "      <td>0.0</td>\n",
       "    </tr>\n",
       "    <tr>\n",
       "      <th>4</th>\n",
       "      <td>4.0</td>\n",
       "      <td>0.0</td>\n",
       "    </tr>\n",
       "  </tbody>\n",
       "</table>\n",
       "</div>"
      ],
      "text/plain": [
       "   campaign  previous\n",
       "0       1.0       0.0\n",
       "1       1.0       0.0\n",
       "2       2.0       0.0\n",
       "3       2.0       0.0\n",
       "4       4.0       0.0"
      ]
     },
     "execution_count": 62,
     "metadata": {},
     "output_type": "execute_result"
    }
   ],
   "source": [
    "bank_other.head()"
   ]
  },
  {
   "cell_type": "markdown",
   "id": "2f334b32",
   "metadata": {},
   "source": [
    "#### Y attribute"
   ]
  },
  {
   "cell_type": "code",
   "execution_count": 63,
   "id": "d49a0354",
   "metadata": {
    "scrolled": false
   },
   "outputs": [
    {
     "data": {
      "text/html": [
       "<div>\n",
       "<style scoped>\n",
       "    .dataframe tbody tr th:only-of-type {\n",
       "        vertical-align: middle;\n",
       "    }\n",
       "\n",
       "    .dataframe tbody tr th {\n",
       "        vertical-align: top;\n",
       "    }\n",
       "\n",
       "    .dataframe thead th {\n",
       "        text-align: right;\n",
       "    }\n",
       "</style>\n",
       "<table border=\"1\" class=\"dataframe\">\n",
       "  <thead>\n",
       "    <tr style=\"text-align: right;\">\n",
       "      <th></th>\n",
       "      <th>y</th>\n",
       "    </tr>\n",
       "  </thead>\n",
       "  <tbody>\n",
       "    <tr>\n",
       "      <th>0</th>\n",
       "      <td>no</td>\n",
       "    </tr>\n",
       "    <tr>\n",
       "      <th>1</th>\n",
       "      <td>no</td>\n",
       "    </tr>\n",
       "    <tr>\n",
       "      <th>2</th>\n",
       "      <td>no</td>\n",
       "    </tr>\n",
       "    <tr>\n",
       "      <th>3</th>\n",
       "      <td>no</td>\n",
       "    </tr>\n",
       "    <tr>\n",
       "      <th>4</th>\n",
       "      <td>no</td>\n",
       "    </tr>\n",
       "    <tr>\n",
       "      <th>...</th>\n",
       "      <td>...</td>\n",
       "    </tr>\n",
       "    <tr>\n",
       "      <th>30902</th>\n",
       "      <td>yes</td>\n",
       "    </tr>\n",
       "    <tr>\n",
       "      <th>30903</th>\n",
       "      <td>yes</td>\n",
       "    </tr>\n",
       "    <tr>\n",
       "      <th>30904</th>\n",
       "      <td>yes</td>\n",
       "    </tr>\n",
       "    <tr>\n",
       "      <th>30905</th>\n",
       "      <td>no</td>\n",
       "    </tr>\n",
       "    <tr>\n",
       "      <th>30906</th>\n",
       "      <td>no</td>\n",
       "    </tr>\n",
       "  </tbody>\n",
       "</table>\n",
       "<p>30907 rows × 1 columns</p>\n",
       "</div>"
      ],
      "text/plain": [
       "         y\n",
       "0       no\n",
       "1       no\n",
       "2       no\n",
       "3       no\n",
       "4       no\n",
       "...    ...\n",
       "30902  yes\n",
       "30903  yes\n",
       "30904  yes\n",
       "30905   no\n",
       "30906   no\n",
       "\n",
       "[30907 rows x 1 columns]"
      ]
     },
     "execution_count": 63,
     "metadata": {},
     "output_type": "execute_result"
    }
   ],
   "source": [
    "bank_data[['y']]"
   ]
  },
  {
   "cell_type": "code",
   "execution_count": 64,
   "id": "5041b54b",
   "metadata": {},
   "outputs": [],
   "source": [
    "#Converting target variable to numerical\n",
    "bank_data['y']=bank_data['y'].map({'no':0,'yes':1})"
   ]
  },
  {
   "cell_type": "code",
   "execution_count": 65,
   "id": "f234e43f",
   "metadata": {},
   "outputs": [
    {
     "data": {
      "text/plain": [
       "Text(0.5, 1.0, 'Target variable')"
      ]
     },
     "execution_count": 65,
     "metadata": {},
     "output_type": "execute_result"
    },
    {
     "data": {
      "image/png": "[encoded data removed]",
      "text/plain": [
       "<Figure size 500x500 with 1 Axes>"
      ]
     },
     "metadata": {},
     "output_type": "display_data"
    }
   ],
   "source": [
    "# Target variable\n",
    "fig, ax = plt.subplots()\n",
    "fig.set_size_inches(5, 5)\n",
    "sns.countplot(x = 'y', data = bank_data)\n",
    "ax.set_xlabel('y', fontsize=15)\n",
    "ax.set_ylabel('Count', fontsize=15)\n",
    "ax.set_title('Target variable', fontsize=15)"
   ]
  },
  {
   "cell_type": "markdown",
   "id": "b473dfb4",
   "metadata": {},
   "source": [
    "What is Unbalanced data?\n",
    "Imbalanced data refers to those types of datasets where the target class has an uneven distribution of observations, i.e one class label has a very high number of observations and the other has a very low number of observations."
   ]
  },
  {
   "cell_type": "markdown",
   "id": "8197dd3d",
   "metadata": {},
   "source": [
    "Inference: \n",
    "Countplot shows the Target variable is highly imbalanced"
   ]
  },
  {
   "cell_type": "markdown",
   "id": "6f7ffd99",
   "metadata": {},
   "source": [
    "### Model"
   ]
  },
  {
   "cell_type": "code",
   "execution_count": 66,
   "id": "210464ce",
   "metadata": {},
   "outputs": [],
   "source": [
    "X= pd.concat([bank_client, bank_related,bank_other], axis = 1)\n",
    "y=bank_data[['y']]"
   ]
  },
  {
   "cell_type": "code",
   "execution_count": 67,
   "id": "dadaf989",
   "metadata": {},
   "outputs": [
    {
     "data": {
      "text/html": [
       "<div>\n",
       "<style scoped>\n",
       "    .dataframe tbody tr th:only-of-type {\n",
       "        vertical-align: middle;\n",
       "    }\n",
       "\n",
       "    .dataframe tbody tr th {\n",
       "        vertical-align: top;\n",
       "    }\n",
       "\n",
       "    .dataframe thead th {\n",
       "        text-align: right;\n",
       "    }\n",
       "</style>\n",
       "<table border=\"1\" class=\"dataframe\">\n",
       "  <thead>\n",
       "    <tr style=\"text-align: right;\">\n",
       "      <th></th>\n",
       "      <th>age</th>\n",
       "      <th>job</th>\n",
       "      <th>marital</th>\n",
       "      <th>education</th>\n",
       "      <th>default</th>\n",
       "      <th>housing</th>\n",
       "      <th>loan</th>\n",
       "      <th>contact</th>\n",
       "      <th>month</th>\n",
       "      <th>duration</th>\n",
       "      <th>campaign</th>\n",
       "      <th>previous</th>\n",
       "    </tr>\n",
       "  </thead>\n",
       "  <tbody>\n",
       "    <tr>\n",
       "      <th>0</th>\n",
       "      <td>1</td>\n",
       "      <td>5</td>\n",
       "      <td>0</td>\n",
       "      <td>2</td>\n",
       "      <td>0</td>\n",
       "      <td>0</td>\n",
       "      <td>0</td>\n",
       "      <td>1</td>\n",
       "      <td>5</td>\n",
       "      <td>3</td>\n",
       "      <td>1.0</td>\n",
       "      <td>0.0</td>\n",
       "    </tr>\n",
       "    <tr>\n",
       "      <th>1</th>\n",
       "      <td>4</td>\n",
       "      <td>3</td>\n",
       "      <td>1</td>\n",
       "      <td>1</td>\n",
       "      <td>0</td>\n",
       "      <td>0</td>\n",
       "      <td>0</td>\n",
       "      <td>1</td>\n",
       "      <td>5</td>\n",
       "      <td>3</td>\n",
       "      <td>1.0</td>\n",
       "      <td>0.0</td>\n",
       "    </tr>\n",
       "    <tr>\n",
       "      <th>2</th>\n",
       "      <td>3</td>\n",
       "      <td>3</td>\n",
       "      <td>1</td>\n",
       "      <td>2</td>\n",
       "      <td>0</td>\n",
       "      <td>0</td>\n",
       "      <td>1</td>\n",
       "      <td>1</td>\n",
       "      <td>5</td>\n",
       "      <td>5</td>\n",
       "      <td>2.0</td>\n",
       "      <td>0.0</td>\n",
       "    </tr>\n",
       "    <tr>\n",
       "      <th>3</th>\n",
       "      <td>1</td>\n",
       "      <td>8</td>\n",
       "      <td>0</td>\n",
       "      <td>2</td>\n",
       "      <td>0</td>\n",
       "      <td>0</td>\n",
       "      <td>0</td>\n",
       "      <td>0</td>\n",
       "      <td>5</td>\n",
       "      <td>1</td>\n",
       "      <td>2.0</td>\n",
       "      <td>0.0</td>\n",
       "    </tr>\n",
       "    <tr>\n",
       "      <th>4</th>\n",
       "      <td>1</td>\n",
       "      <td>8</td>\n",
       "      <td>0</td>\n",
       "      <td>2</td>\n",
       "      <td>0</td>\n",
       "      <td>1</td>\n",
       "      <td>1</td>\n",
       "      <td>1</td>\n",
       "      <td>5</td>\n",
       "      <td>4</td>\n",
       "      <td>4.0</td>\n",
       "      <td>0.0</td>\n",
       "    </tr>\n",
       "  </tbody>\n",
       "</table>\n",
       "</div>"
      ],
      "text/plain": [
       "   age  job  marital  education  default  housing  loan  contact  month  \\\n",
       "0    1    5        0          2        0        0     0        1      5   \n",
       "1    4    3        1          1        0        0     0        1      5   \n",
       "2    3    3        1          2        0        0     1        1      5   \n",
       "3    1    8        0          2        0        0     0        0      5   \n",
       "4    1    8        0          2        0        1     1        1      5   \n",
       "\n",
       "   duration  campaign  previous  \n",
       "0         3       1.0       0.0  \n",
       "1         3       1.0       0.0  \n",
       "2         5       2.0       0.0  \n",
       "3         1       2.0       0.0  \n",
       "4         4       4.0       0.0  "
      ]
     },
     "execution_count": 67,
     "metadata": {},
     "output_type": "execute_result"
    }
   ],
   "source": [
    "X.head()"
   ]
  },
  {
   "cell_type": "code",
   "execution_count": 68,
   "id": "50547c35",
   "metadata": {},
   "outputs": [
    {
     "data": {
      "text/html": [
       "<div>\n",
       "<style scoped>\n",
       "    .dataframe tbody tr th:only-of-type {\n",
       "        vertical-align: middle;\n",
       "    }\n",
       "\n",
       "    .dataframe tbody tr th {\n",
       "        vertical-align: top;\n",
       "    }\n",
       "\n",
       "    .dataframe thead th {\n",
       "        text-align: right;\n",
       "    }\n",
       "</style>\n",
       "<table border=\"1\" class=\"dataframe\">\n",
       "  <thead>\n",
       "    <tr style=\"text-align: right;\">\n",
       "      <th></th>\n",
       "      <th>y</th>\n",
       "    </tr>\n",
       "  </thead>\n",
       "  <tbody>\n",
       "    <tr>\n",
       "      <th>0</th>\n",
       "      <td>0</td>\n",
       "    </tr>\n",
       "    <tr>\n",
       "      <th>1</th>\n",
       "      <td>0</td>\n",
       "    </tr>\n",
       "    <tr>\n",
       "      <th>2</th>\n",
       "      <td>0</td>\n",
       "    </tr>\n",
       "    <tr>\n",
       "      <th>3</th>\n",
       "      <td>0</td>\n",
       "    </tr>\n",
       "    <tr>\n",
       "      <th>4</th>\n",
       "      <td>0</td>\n",
       "    </tr>\n",
       "  </tbody>\n",
       "</table>\n",
       "</div>"
      ],
      "text/plain": [
       "   y\n",
       "0  0\n",
       "1  0\n",
       "2  0\n",
       "3  0\n",
       "4  0"
      ]
     },
     "execution_count": 68,
     "metadata": {},
     "output_type": "execute_result"
    }
   ],
   "source": [
    "y.head()"
   ]
  },
  {
   "cell_type": "code",
   "execution_count": 69,
   "id": "e0ac59e5",
   "metadata": {},
   "outputs": [],
   "source": [
    "def train_test_split(X, y, test_size=0.2, random_state=None):\n",
    "    if random_state is not None:\n",
    "        np.random.seed(random_state)\n",
    "    indices = np.random.permutation(len(X))\n",
    "    split_idx = int(len(X) * (1 - test_size))\n",
    "    X_train, X_test = X[:split_idx], X[split_idx:]\n",
    "    y_train, y_test = y[:split_idx], y[split_idx:]\n",
    "    return X_train, X_test, y_train, y_test\n"
   ]
  },
  {
   "cell_type": "code",
   "execution_count": 70,
   "id": "7f1c856f",
   "metadata": {},
   "outputs": [],
   "source": [
    "# Train and evaluate the model using the pipeline\n",
    "X_train, X_test, y_train, y_test = train_test_split(X, y, test_size=0.2, random_state=42)"
   ]
  },
  {
   "cell_type": "code",
   "execution_count": 71,
   "id": "84fa694f",
   "metadata": {},
   "outputs": [],
   "source": [
    "class Node():\n",
    "    def __init__(self, feature_index=None, threshold=None, left=None, right=None, info_gain=None, value=None):\n",
    "        ''' constructor ''' \n",
    "        \n",
    "        # for decision node\n",
    "        self.feature_index = feature_index #the index of the feature that this node splits on\n",
    "        self.threshold = threshold #the threshold value used to split the data at this node\n",
    "        self.left = left #the left child of this node\n",
    "        self.right = right #the right child of this node\n",
    "        self.info_gain = info_gain #the information gain obtained by splitting the data at this node\n",
    "        \n",
    "        # for leaf node\n",
    "        self.value = value #the predicted value of the target variable at this node"
   ]
  },
  {
   "cell_type": "code",
   "execution_count": 72,
   "id": "591ff051",
   "metadata": {},
   "outputs": [],
   "source": [
    "class DecisionTreeClassifier():\n",
    "    def __init__(self, min_samples_split=2, max_depth=2):\n",
    "        ''' The __init__() function is the constructor of the DecisionTreeClassifier class. It takes two parameters:\n",
    "\n",
    "            min_samples_split: the minimum number of samples required to split a node\n",
    "            max_depth: the maximum depth of the tree '''\n",
    "        \n",
    "        # initialize the root of the tree \n",
    "        self.root = None\n",
    "        \n",
    "        # stopping conditions\n",
    "        self.min_samples_split = min_samples_split\n",
    "        self.max_depth = max_depth\n",
    "        \n",
    "    def build_tree(self, dataset, curr_depth=0):\n",
    "        ''' recursive function to build the tree ''' \n",
    "        \n",
    "        X, Y = dataset[:,:-1], dataset[:,-1]#The X and Y variables represent the features and the target variable of the dataset\n",
    "        num_samples, num_features = np.shape(X)#number of samples and features in the dataset\n",
    "        \n",
    "        # split until stopping conditions are met\n",
    "        if num_samples>=self.min_samples_split and curr_depth<=self.max_depth:\n",
    "            # find the best split\n",
    "            best_split = self.get_best_split(dataset, num_samples, num_features)\n",
    "            # check if information gain is positive\n",
    "            if best_split[\"info_gain\"]>0:\n",
    "                # recur left\n",
    "                left_subtree = self.build_tree(best_split[\"dataset_left\"], curr_depth+1)\n",
    "                # recur right\n",
    "                right_subtree = self.build_tree(best_split[\"dataset_right\"], curr_depth+1)\n",
    "                # return decision node\n",
    "                return Node(best_split[\"feature_index\"], best_split[\"threshold\"], \n",
    "                            left_subtree, right_subtree, best_split[\"info_gain\"])\n",
    "        \n",
    "        # compute leaf node\n",
    "        leaf_value = self.calculate_leaf_value(Y)\n",
    "        # return leaf node\n",
    "        return Node(value=leaf_value)\n",
    "    \n",
    "    def get_best_split(self, dataset, num_samples, num_features):\n",
    "        ''' function to find the best split '''\n",
    "        \n",
    "        # dictionary to store the best split\n",
    "        best_split = {}\n",
    "        max_info_gain = -float(\"inf\")\n",
    "        \n",
    "        # loop over all the features\n",
    "        for feature_index in range(num_features):\n",
    "            feature_values = dataset[:, feature_index]\n",
    "            possible_thresholds = np.unique(feature_values)\n",
    "            # loop over all the feature values present in the data\n",
    "            for threshold in possible_thresholds:\n",
    "                # get current split\n",
    "                dataset_left, dataset_right = self.split(dataset, feature_index, threshold)\n",
    "                # check if childs are not null\n",
    "                if len(dataset_left)>0 and len(dataset_right)>0:\n",
    "                    y, left_y, right_y = dataset[:, -1], dataset_left[:, -1], dataset_right[:, -1]\n",
    "                    # compute information gain\n",
    "                    curr_info_gain = self.information_gain(y, left_y, right_y)\n",
    "                    # update the best split if needed\n",
    "                    if curr_info_gain>max_info_gain:\n",
    "                        best_split[\"feature_index\"] = feature_index\n",
    "                        best_split[\"threshold\"] = threshold\n",
    "                        best_split[\"dataset_left\"] = dataset_left\n",
    "                        best_split[\"dataset_right\"] = dataset_right\n",
    "                        best_split[\"info_gain\"] = curr_info_gain\n",
    "                        max_info_gain = curr_info_gain\n",
    "                        \n",
    "        # return best split\n",
    "        return best_split\n",
    "    \n",
    "    def split(self, dataset, feature_index, threshold):\n",
    "        ''' the split method is used to split the dataset into two subsets based on a given threshold value and a feature index. It takes the following parameters:\n",
    "\n",
    "            dataset: The dataset to split.\n",
    "            feature_index: The index of the feature to split on.\n",
    "            threshold: The threshold value to split on.'''\n",
    "        \n",
    "        dataset_left = np.array([row for row in dataset if row[feature_index]<=threshold])#contains all the rows where the feature value is less than or equal to the threshold\n",
    "        dataset_right = np.array([row for row in dataset if row[feature_index]>threshold])\n",
    "        return dataset_left, dataset_right\n",
    "    \n",
    "    def information_gain(self, parent, l_child, r_child):\n",
    "        ''' function to compute information gain '''\n",
    "        # calculate entropy of parent node\n",
    "        parent_entropy = self.entropy(parent)\n",
    "    \n",
    "        # calculate entropy of left child node\n",
    "        left_entropy = self.entropy(l_child)\n",
    "        \n",
    "        # calculate entropy of right child node\n",
    "        right_entropy = self.entropy(r_child)\n",
    "    \n",
    "        # calculate weighted average entropy of child nodes\n",
    "        child_entropy = (len(l_child)/len(parent))*left_entropy + (len(r_child)/len(parent))*right_entropy\n",
    "    \n",
    "        # calculate information gain\n",
    "        gain = parent_entropy - child_entropy\n",
    "    \n",
    "        return gain\n",
    "\n",
    "    \n",
    "    def entropy(self, y):\n",
    "        ''' function to compute entropy '''\n",
    "        \n",
    "        class_labels = np.unique(y)#gets an array of unique class labels in the set of samples.\n",
    "        entropy = 0 #This initializes the entropy variable to zero.\n",
    "        for cls in class_labels: #loops over each class label in the array of unique class labels.\n",
    "            p_cls = len(y[y == cls]) / len(y) #calculates the probability of a sample \n",
    "            entropy += -p_cls * np.log2(p_cls) \n",
    "        return entropy\n",
    "    \n",
    "        \n",
    "    def calculate_leaf_value(self, Y):\n",
    "        ''' function to compute leaf node '''\n",
    "        \n",
    "        Y = list(Y)\n",
    "        return max(Y, key=Y.count)#calculates the majority class label for a leaf node\n",
    "    \n",
    "    def print_tree(self, tree=None, indent=\" \"):\n",
    "        ''' function to print the tree '''\n",
    "    \n",
    "        if not tree:\n",
    "            tree = self.root\n",
    "    \n",
    "        if tree.value is not None:\n",
    "            print(tree.value)\n",
    "    \n",
    "        else:\n",
    "            print(\"X\"+str(tree.feature_index), \"<=\", tree.threshold, \"?\", tree.info_gain)\n",
    "        \n",
    "            print(indent + \"left: \", end=\"\")\n",
    "            self.print_tree(tree.left, indent + \" \")\n",
    "        \n",
    "            print(indent + \"right: \", end=\"\")\n",
    "            self.print_tree(tree.right, indent + \" \")\n",
    "\n",
    "    \n",
    "    def fit(self, X, Y):\n",
    "        ''' function to train the tree '''\n",
    "        \n",
    "        dataset = np.concatenate((X, Y), axis=1)\n",
    "        self.root = self.build_tree(dataset)\n",
    "    \n",
    "    def predict(self, X):\n",
    "        ''' function to predict the class labels '''\n",
    "        # convert X to numpy array\n",
    "        if isinstance(X, pd.DataFrame):\n",
    "            X = X.values\n",
    "        \n",
    "        predictions = [self.make_prediction(x, self.root) for x in X]\n",
    "        return predictions\n",
    "    \n",
    "    def make_prediction(self, x, tree):\n",
    "        ''' function to traverse the tree and make predictions '''\n",
    "        \n",
    "        # leaf node\n",
    "        if tree.value != None:\n",
    "            return tree.value\n",
    "        \n",
    "        feature_val = x[tree.feature_index]\n",
    "        if feature_val <= tree.threshold:\n",
    "            return self.make_prediction(x, tree.left)\n",
    "        else:\n",
    "            return self.make_prediction(x, tree.right)\n",
    "        \n",
    "    "
   ]
  },
  {
   "cell_type": "code",
   "execution_count": 73,
   "id": "b4bb4426",
   "metadata": {},
   "outputs": [],
   "source": [
    "model=DecisionTreeClassifier()\n",
    "# Fit the decision tree on the entire training dataset\n",
    "model.fit(X_train,y_train)"
   ]
  },
  {
   "cell_type": "code",
   "execution_count": 74,
   "id": "eeaad2bd",
   "metadata": {},
   "outputs": [
    {
     "name": "stdout",
     "output_type": "stream",
     "text": [
      "Accuracy: 0.9223862487360971\n"
     ]
    }
   ],
   "source": [
    "from sklearn.metrics import accuracy_score\n",
    "y_train_pred = model.predict(X_train)\n",
    "# Calculate the training accuracy of the model\n",
    "acc = accuracy_score(y_train, y_train_pred)\n",
    "print(\"Accuracy:\", acc)"
   ]
  },
  {
   "cell_type": "code",
   "execution_count": 75,
   "id": "767efb4f",
   "metadata": {},
   "outputs": [],
   "source": [
    "y_test_pred = model.predict(X_test) "
   ]
  },
  {
   "cell_type": "code",
   "execution_count": 76,
   "id": "42f0fda1",
   "metadata": {},
   "outputs": [
    {
     "data": {
      "text/plain": [
       "0.6143642834034293"
      ]
     },
     "execution_count": 76,
     "metadata": {},
     "output_type": "execute_result"
    }
   ],
   "source": [
    "accuracy_score(y_test,y_test_pred)"
   ]
  },
  {
   "cell_type": "code",
   "execution_count": 77,
   "id": "c5933c61",
   "metadata": {},
   "outputs": [],
   "source": [
    "# define a class named CategoricalToNumerical that will be used for encoding categorical features to numerical values\n",
    "class CategoricalToNumerical():\n",
    "    # define an initialization method that initializes columns and mapping attributes\n",
    "    def __init__(self):\n",
    "        self.columns = None  # a list that will store the names of the columns to be transformed\n",
    "        self.mapping = {}  # a dictionary that will store the mappings from categorical values to numerical values\n",
    "        \n",
    "    # define a fit method that will learn the mapping of categorical values to numerical values\n",
    "    def fit(self, X, y=None):\n",
    "        self.columns = X.columns  # store the names of the columns in the columns attribute\n",
    "        for col in X.columns:  # iterate over the columns of the input dataframe\n",
    "            if X[col].dtype == 'object':  # check if the column is of object type, i.e. categorical\n",
    "                values = list(set(X[col]))  # get a list of the unique categorical values in the column\n",
    "                self.mapping[col] = {val:i for i, val in enumerate(values)}  # create a mapping from each categorical value to a unique integer value\n",
    "        return self  # return the object itself\n",
    "        \n",
    "    # define a transform method that will transform the input dataframe by replacing categorical values with numerical values\n",
    "    def transform(self, X):\n",
    "        X = X.copy()  # make a copy of the input dataframe\n",
    "        for col in X.columns:  # iterate over the columns of the input dataframe\n",
    "            if col in self.mapping:  # check if the column has a mapping from categorical to numerical values\n",
    "                X[col] = X[col].apply(lambda x: self.mapping[col].get(x, -1))  # replace each categorical value with its corresponding numerical value using the mapping\n",
    "        return X  # return the transformed dataframe\n"
   ]
  },
  {
   "cell_type": "code",
   "execution_count": 78,
   "id": "a17b2006",
   "metadata": {},
   "outputs": [],
   "source": [
    "#Outlier treatment \n",
    "class OutlierTreatment():\n",
    "    \n",
    "    # Constructor to initialize method and multiplier values\n",
    "    def __init__(self, method='iqr', multiplier=1.5):\n",
    "        self.method = method\n",
    "        self.multiplier = multiplier\n",
    "        \n",
    "    # Fit function that returns self object\n",
    "    def fit(self, X, y=None):\n",
    "        return self\n",
    "        \n",
    "    # Transform function that applies outlier treatment based on the chosen method\n",
    "    def transform(self, X):\n",
    "        # Outlier treatment based on IQR\n",
    "        if self.method == 'iqr':\n",
    "            Q1 = np.percentile(X, 25, axis=0) # Calculate the 25th percentile\n",
    "            Q3 = np.percentile(X, 75, axis=0) # Calculate the 75th percentile\n",
    "            IQR = Q3 - Q1 # Calculate the Interquartile Range\n",
    "            lower = Q1 - self.multiplier * IQR # Calculate lower bound\n",
    "            upper = Q3 + self.multiplier * IQR # Calculate upper bound\n",
    "            return np.clip(X, lower, upper) # Apply clip function to limit the values between lower and upper bounds\n",
    "            \n",
    "        # Outlier treatment based on Z-score\n",
    "        elif self.method == 'zscore':\n",
    "            Z = np.abs(stats.zscore(X)) # Calculate Z-scores for each feature\n",
    "            return X[(Z < self.multiplier).all(axis=1)] # Return the rows where Z-score for all features are less than the multiplier value\n"
   ]
  },
  {
   "cell_type": "code",
   "execution_count": 79,
   "id": "332618bf",
   "metadata": {},
   "outputs": [],
   "source": [
    "class HyperparameterFinder():\n",
    "    def __init__(self, max_depth_values, min_samples_split_values):\n",
    "        self.max_depth_values = max_depth_values\n",
    "        self.min_samples_split_values = min_samples_split_values\n",
    "        self.best_hyperparameters = None\n",
    "\n",
    "    def fit(self, X, y=None):        \n",
    "        # Split the data into training and testing sets\n",
    "        X_train, X_test, y_train, y_test = train_test_split(X, y, test_size=0.2, random_state=42)\n",
    "        \n",
    "\n",
    "        # Find the best hyperparameters using the find_best_hyperparameters function\n",
    "        best_hyperparameters, best_accuracy = self.find_best_hyperparameters(X_train, y_train, X_test, y_test)\n",
    "        \n",
    "\n",
    "        # Store the best hyperparameters\n",
    "        self.best_hyperparameters = best_hyperparameters\n",
    "\n",
    "        # Create a new decision tree classifier with the best hyperparameters\n",
    "        self.dt = DecisionTreeClassifier(max_depth=self.best_hyperparameters['max_depth'], min_samples_split=self.best_hyperparameters['min_samples_split'])\n",
    "\n",
    "        # Fit the decision tree on the entire training dataset\n",
    "        self.dt.fit(X_train, y_train)\n",
    "\n",
    "        return self\n",
    "\n",
    "    def transform(self, X, y=None):\n",
    "        # Create a new decision tree classifier with the best hyperparameters\n",
    "        dt = DecisionTreeClassifier(max_depth=self.best_hyperparameters['max_depth'], min_samples_split=self.best_hyperparameters['min_samples_split'])\n",
    "        \n",
    "        # Fit the decision tree on the entire training dataset\n",
    "        dt.fit(X, y)\n",
    "\n",
    "        # Return the predictions on the entire dataset\n",
    "        return dt.predict(X), self.best_hyperparameters\n",
    "\n",
    "\n",
    "    def find_best_hyperparameters(self, X_train, y_train, X_test, y_test):\n",
    "        hyperparameters = {'max_depth': None, 'min_samples_split': None}\n",
    "        best_accuracy = 0.0\n",
    "\n",
    "        for max_depth in self.max_depth_values:\n",
    "            for min_samples_split in self.min_samples_split_values:\n",
    "                # Create a new decision tree classifier with the current hyperparameters\n",
    "                dt = DecisionTreeClassifier(max_depth=max_depth, min_samples_split=min_samples_split)\n",
    "\n",
    "                # Fit the decision tree on the training dataset\n",
    "                dt.fit(X_train, y_train)\n",
    "\n",
    "                # Evaluate the decision tree on the testing dataset\n",
    "                y_pred = dt.predict(X_test)\n",
    "                accuracy = accuracy_score(y_test, y_pred)\n",
    "\n",
    "                # Check if the current hyperparameters are better than the previous best hyperparameters\n",
    "                if accuracy > best_accuracy:\n",
    "                    best_accuracy = accuracy\n",
    "                    hyperparameters['max_depth'] = max_depth\n",
    "                    hyperparameters['min_samples_split'] = min_samples_split\n",
    "                    best_params = {'max_depth': max_depth, 'min_samples_split': min_samples_split}\n",
    "                # Print the current hyperparameters and accuracy for debugging\n",
    "                print(f\"max_depth={max_depth}, min_samples_split={min_samples_split}, accuracy={accuracy}\")\n",
    "                \n",
    "        # Print the best hyperparameters and accuracy for debugging\n",
    "        print(f\"best_hyperparameters={hyperparameters}, best_accuracy={best_accuracy}\")\n",
    "        return hyperparameters, accuracy"
   ]
  },
  {
   "cell_type": "code",
   "execution_count": 80,
   "id": "5e56672f",
   "metadata": {},
   "outputs": [],
   "source": [
    "#Pipeline class\n",
    "class Pipeline():\n",
    "    def __init__(self, steps):\n",
    "        self.steps = steps\n",
    "        \n",
    "    # method to fit and transform data using all steps\n",
    "    def fit_transform(self, X):\n",
    "        # iterate through all steps and apply fit_transform method to X\n",
    "        for name, step in self.steps:\n",
    "            X = step.fit_transform(X)\n",
    "        # return transformed data\n",
    "        return X\n",
    "\n",
    "    # method to transform data using all steps\n",
    "    def transform(self, X):\n",
    "        # iterate through all steps and apply transform method to X\n",
    "        for name, step in self.steps:\n",
    "            X = step.transform(X)\n",
    "        # return transformed data\n",
    "        return X\n",
    "\n",
    "    # method to fit data using all steps\n",
    "    def fit(self, X, y=None):\n",
    "        # iterate through all steps and apply fit_transform method to X\n",
    "        for name, step in self.steps:\n",
    "            X = step.fit(X, y).transform(X)\n",
    "        # return Pipeline object\n",
    "        return self\n"
   ]
  },
  {
   "cell_type": "code",
   "execution_count": 81,
   "id": "b469b363",
   "metadata": {},
   "outputs": [],
   "source": [
    "#reading the data\n",
    "bank_data=pd.read_csv('Bank Client Deposit Data set Classification.csv')"
   ]
  },
  {
   "cell_type": "code",
   "execution_count": 82,
   "id": "0c06db33",
   "metadata": {},
   "outputs": [],
   "source": [
    "preprocessing_pipeline = Pipeline([\n",
    "     ('encoder', CategoricalToNumerical()),#encode categorical columns to numerical values\n",
    "    ('outlier_treatment', OutlierTreatment())#apply outlier treatment on the data\n",
    "])"
   ]
  },
  {
   "cell_type": "code",
   "execution_count": 83,
   "id": "3d8b57a1",
   "metadata": {},
   "outputs": [
    {
     "data": {
      "text/plain": [
       "<__main__.Pipeline at 0x1fe450d2070>"
      ]
     },
     "execution_count": 83,
     "metadata": {},
     "output_type": "execute_result"
    }
   ],
   "source": [
    "#fit the pipeline on the bank_data dataset.\n",
    "preprocessing_pipeline.fit(bank_data)"
   ]
  },
  {
   "cell_type": "code",
   "execution_count": 84,
   "id": "e5c60842",
   "metadata": {},
   "outputs": [],
   "source": [
    "#dropping all features found irrevalent\n",
    "bank_data=bank_data.drop(labels=['balance','duration','pdays','day','poutcome'],axis=1)"
   ]
  },
  {
   "cell_type": "code",
   "execution_count": 85,
   "id": "05e44fd3",
   "metadata": {},
   "outputs": [],
   "source": [
    "#Replace all special charaters with nan and dropping all observation containing null values\n",
    "for column in bank_data.columns:\n",
    "    bank_data[column].replace(['unknown','?',\"\",\"na\",\"NA\"], np.nan, inplace=True)\n",
    "    bank_data.dropna(inplace=True)\n",
    "bank_data.reset_index(inplace=True,drop=True)#eset the index to be sequential"
   ]
  },
  {
   "cell_type": "code",
   "execution_count": 86,
   "id": "a79e376e",
   "metadata": {},
   "outputs": [],
   "source": [
    "# Define the column indices or names for numeric and categorical columns\n",
    "categorical_cols = ['job', 'marital', 'education', 'default', 'housing', 'loan', 'contact', 'month']\n",
    "numeric_cols = ['age', 'duration', 'campaign', 'previous']\n",
    "# create an instance of CategoricalToNumerical transformer\n",
    "cat_to_num_transformer = CategoricalToNumerical()\n",
    "\n",
    "# fit the transformer to the training data\n",
    "cat_to_num_transformer.fit(bank_data[categorical_cols])\n",
    "\n",
    "# transform the categorical columns\n",
    "bank_data[categorical_cols] = cat_to_num_transformer.transform(bank_data[categorical_cols])"
   ]
  },
  {
   "cell_type": "code",
   "execution_count": 87,
   "id": "57bdd718",
   "metadata": {},
   "outputs": [],
   "source": [
    "X=bank_data.drop(labels='y',axis=1)\n",
    "y=bank_data[['y']]"
   ]
  },
  {
   "cell_type": "code",
   "execution_count": 88,
   "id": "34874558",
   "metadata": {},
   "outputs": [],
   "source": [
    "ot = OutlierTreatment(method='iqr', multiplier=1.5)\n",
    "ot.fit(X)\n",
    "X=ot.transform(X)"
   ]
  },
  {
   "cell_type": "code",
   "execution_count": 89,
   "id": "211498f5",
   "metadata": {},
   "outputs": [],
   "source": [
    "# Train and evaluate the model using the pipeline\n",
    "X_train, X_test, y_train, y_test = train_test_split(X, y, test_size=0.2, random_state=42)"
   ]
  },
  {
   "cell_type": "code",
   "execution_count": 90,
   "id": "6f8e0033",
   "metadata": {},
   "outputs": [],
   "source": [
    "pipeline = Pipeline([   \n",
    "    ('preprocessing', preprocessing_pipeline),\n",
    "    ('DecisionTreeClassifier',DecisionTreeClassifier())\n",
    "])"
   ]
  },
  {
   "cell_type": "code",
   "execution_count": 91,
   "id": "ff9a9af5",
   "metadata": {
    "scrolled": false
   },
   "outputs": [],
   "source": [
    "model=DecisionTreeClassifier()\n",
    "model.fit(X_train, y_train)"
   ]
  },
  {
   "cell_type": "code",
   "execution_count": 92,
   "id": "36b7786a",
   "metadata": {},
   "outputs": [],
   "source": [
    "y_train_pred = model.predict(X_train)"
   ]
  },
  {
   "cell_type": "code",
   "execution_count": 93,
   "id": "f6af2b9b",
   "metadata": {},
   "outputs": [
    {
     "name": "stdout",
     "output_type": "stream",
     "text": [
      "Accuracy: 0.9177350859453994\n"
     ]
    }
   ],
   "source": [
    "# Calculate the training accuracy of the model\n",
    "acc = accuracy_score(y_train, y_train_pred)\n",
    "print(\"Accuracy:\", acc)"
   ]
  }
 ],
 "metadata": {
  "kernelspec": {
   "display_name": "Python 3 (ipykernel)",
   "language": "python",
   "name": "python3"
  },
  "language_info": {
   "codemirror_mode": {
    "name": "ipython",
    "version": 3
   },
   "file_extension": ".py",
   "mimetype": "text/x-python",
   "name": "python",
   "nbconvert_exporter": "python",
   "pygments_lexer": "ipython3",
   "version": "3.9.13"
  }
 },
 "nbformat": 4,
 "nbformat_minor": 5
}
